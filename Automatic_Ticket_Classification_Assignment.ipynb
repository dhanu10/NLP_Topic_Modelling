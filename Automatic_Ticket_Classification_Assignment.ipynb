{
 "cells": [
  {
   "cell_type": "markdown",
   "metadata": {
    "id": "rhR-ZUkwJrFn"
   },
   "source": [
    "## Problem Statement \n",
    "\n",
    "You need to build a model that is able to classify customer complaints based on the products/services. By doing so, you can segregate these tickets into their relevant categories and, therefore, help in the quick resolution of the issue.\n",
    "\n",
    "You will be doing topic modelling on the <b>.json</b> data provided by the company. Since this data is not labelled, you need to apply NMF to analyse patterns and classify tickets into the following five clusters based on their products/services:\n",
    "\n",
    "* Credit card / Prepaid card\n",
    "\n",
    "* Bank account services\n",
    "\n",
    "* Theft/Dispute reporting\n",
    "\n",
    "* Mortgages/loans\n",
    "\n",
    "* Others \n",
    "\n",
    "\n",
    "With the help of topic modelling, you will be able to map each ticket onto its respective department/category. You can then use this data to train any supervised model such as logistic regression, decision tree or random forest. Using this trained model, you can classify any new customer complaint support ticket into its relevant department."
   ]
  },
  {
   "cell_type": "markdown",
   "metadata": {
    "id": "mcgXVNyaLUFS"
   },
   "source": [
    "## Pipelines that needs to be performed:\n",
    "\n",
    "You need to perform the following eight major tasks to complete the assignment:\n",
    "\n",
    "1.  Data loading\n",
    "\n",
    "2. Text preprocessing\n",
    "\n",
    "3. Exploratory data analysis (EDA)\n",
    "\n",
    "4. Feature extraction\n",
    "\n",
    "5. Topic modelling \n",
    "\n",
    "6. Model building using supervised learning\n",
    "\n",
    "7. Model training and evaluation\n",
    "\n",
    "8. Model inference"
   ]
  },
  {
   "cell_type": "markdown",
   "metadata": {
    "id": "JuLFIymAL58u"
   },
   "source": [
    "## Importing the necessary libraries"
   ]
  },
  {
   "cell_type": "code",
   "execution_count": 249,
   "metadata": {
    "id": "O-Q9pqrcJrFr"
   },
   "outputs": [],
   "source": [
    "import json \n",
    "import numpy as np\n",
    "import pandas as pd\n",
    "import re, nltk, spacy, string\n",
    "import en_core_web_sm\n",
    "nlp = en_core_web_sm.load()\n",
    "import seaborn as sns\n",
    "import matplotlib.pyplot as plt\n",
    "%matplotlib inline\n",
    "\n",
    "from plotly.offline import plot\n",
    "import plotly.graph_objects as go\n",
    "import plotly.express as px\n",
    "\n",
    "from sklearn.feature_extraction.text import CountVectorizer, TfidfVectorizer\n",
    "from pprint import pprint"
   ]
  },
  {
   "cell_type": "markdown",
   "metadata": {
    "id": "KtRLCsNVJrFt"
   },
   "source": [
    "## Loading the data\n",
    "\n",
    "The data is in JSON format and we need to convert it to a dataframe."
   ]
  },
  {
   "cell_type": "code",
   "execution_count": 250,
   "metadata": {
    "id": "puVzIf_iJrFt"
   },
   "outputs": [],
   "source": [
    "# Opening JSON file \n",
    "f = open(\"complaints-2021-05-14_08_16.json\",\"r\")\n",
    "  \n",
    "# returns JSON object as  \n",
    "# a dictionary \n",
    "data = json.load(f)\n",
    "df=pd.json_normalize(data)"
   ]
  },
  {
   "cell_type": "markdown",
   "metadata": {
    "id": "_xYpH-sAJrFu"
   },
   "source": [
    "## Data preparation"
   ]
  },
  {
   "cell_type": "code",
   "execution_count": 251,
   "metadata": {
    "id": "Lf8ufHH5JrFu"
   },
   "outputs": [
    {
     "name": "stdout",
     "output_type": "stream",
     "text": [
      "<class 'pandas.core.frame.DataFrame'>\n",
      "RangeIndex: 78313 entries, 0 to 78312\n",
      "Data columns (total 22 columns):\n",
      " #   Column                             Non-Null Count  Dtype  \n",
      "---  ------                             --------------  -----  \n",
      " 0   _index                             78313 non-null  object \n",
      " 1   _type                              78313 non-null  object \n",
      " 2   _id                                78313 non-null  object \n",
      " 3   _score                             78313 non-null  float64\n",
      " 4   _source.tags                       10900 non-null  object \n",
      " 5   _source.zip_code                   71556 non-null  object \n",
      " 6   _source.complaint_id               78313 non-null  object \n",
      " 7   _source.issue                      78313 non-null  object \n",
      " 8   _source.date_received              78313 non-null  object \n",
      " 9   _source.state                      76322 non-null  object \n",
      " 10  _source.consumer_disputed          78313 non-null  object \n",
      " 11  _source.product                    78313 non-null  object \n",
      " 12  _source.company_response           78313 non-null  object \n",
      " 13  _source.company                    78313 non-null  object \n",
      " 14  _source.submitted_via              78313 non-null  object \n",
      " 15  _source.date_sent_to_company       78313 non-null  object \n",
      " 16  _source.company_public_response    4 non-null      object \n",
      " 17  _source.sub_product                67742 non-null  object \n",
      " 18  _source.timely                     78313 non-null  object \n",
      " 19  _source.complaint_what_happened    78313 non-null  object \n",
      " 20  _source.sub_issue                  32016 non-null  object \n",
      " 21  _source.consumer_consent_provided  77305 non-null  object \n",
      "dtypes: float64(1), object(21)\n",
      "memory usage: 13.1+ MB\n",
      "None\n",
      "                _index      _type      _id  _score   _source.tags  \\\n",
      "0  complaint-public-v2  complaint  3211475     0.0           None   \n",
      "1  complaint-public-v2  complaint  3229299     0.0  Servicemember   \n",
      "2  complaint-public-v2  complaint  3199379     0.0           None   \n",
      "3  complaint-public-v2  complaint  2673060     0.0           None   \n",
      "4  complaint-public-v2  complaint  3203545     0.0           None   \n",
      "\n",
      "  _source.zip_code _source.complaint_id                       _source.issue  \\\n",
      "0            90301              3211475   Attempts to collect debt not owed   \n",
      "1            319XX              3229299     Written notification about debt   \n",
      "2            77069              3199379  Other features, terms, or problems   \n",
      "3            48066              2673060      Trouble during payment process   \n",
      "4            10473              3203545                    Fees or interest   \n",
      "\n",
      "       _source.date_received _source.state  ... _source.company_response  \\\n",
      "0  2019-04-13T12:00:00-05:00            CA  ...  Closed with explanation   \n",
      "1  2019-05-01T12:00:00-05:00            GA  ...  Closed with explanation   \n",
      "2  2019-04-02T12:00:00-05:00            TX  ...  Closed with explanation   \n",
      "3  2017-09-13T12:00:00-05:00            MI  ...  Closed with explanation   \n",
      "4  2019-04-05T12:00:00-05:00            NY  ...  Closed with explanation   \n",
      "\n",
      "        _source.company _source.submitted_via _source.date_sent_to_company  \\\n",
      "0  JPMORGAN CHASE & CO.                   Web    2019-04-13T12:00:00-05:00   \n",
      "1  JPMORGAN CHASE & CO.                   Web    2019-05-01T12:00:00-05:00   \n",
      "2  JPMORGAN CHASE & CO.                   Web    2019-04-02T12:00:00-05:00   \n",
      "3  JPMORGAN CHASE & CO.                   Web    2017-09-14T12:00:00-05:00   \n",
      "4  JPMORGAN CHASE & CO.              Referral    2019-04-05T12:00:00-05:00   \n",
      "\n",
      "  _source.company_public_response                      _source.sub_product  \\\n",
      "0                            None                         Credit card debt   \n",
      "1                            None                         Credit card debt   \n",
      "2                            None  General-purpose credit card or charg...   \n",
      "3                            None               Conventional home mortgage   \n",
      "4                            None  General-purpose credit card or charg...   \n",
      "\n",
      "  _source.timely          _source.complaint_what_happened  \\\n",
      "0            Yes                                            \n",
      "1            Yes  Good morning my name is XXXX XXXX an...   \n",
      "2            Yes  I upgraded my XXXX XXXX card in XX/X...   \n",
      "3            Yes                                            \n",
      "4            Yes                                            \n",
      "\n",
      "                         _source.sub_issue _source.consumer_consent_provided  \n",
      "0                        Debt is not yours              Consent not provided  \n",
      "1  Didn't receive enough information to...                  Consent provided  \n",
      "2    Problem with rewards from credit card                  Consent provided  \n",
      "3                                     None              Consent not provided  \n",
      "4                Charged too much interest                               N/A  \n",
      "\n",
      "[5 rows x 22 columns]\n"
     ]
    }
   ],
   "source": [
    "# Inspect the dataframe to understand the given data.\n",
    "print(df.info())\n",
    "print(df.head())"
   ]
  },
  {
   "cell_type": "code",
   "execution_count": 252,
   "metadata": {},
   "outputs": [
    {
     "name": "stdout",
     "output_type": "stream",
     "text": [
      "Checking account                              17182\n",
      "General-purpose credit card or charge card    10504\n",
      "Other mortgage                                 8447\n",
      "Conventional fixed mortgage                    4892\n",
      "Credit reporting                               4172\n",
      "                                              ...  \n",
      "Government benefit payment card                   4\n",
      "Gift or merchant card                             4\n",
      "ID prepaid card                                   2\n",
      "Medical debt                                      2\n",
      "Electronic Benefit Transfer / EBT card            1\n",
      "Name: _source.sub_product, Length: 72, dtype: int64\n"
     ]
    }
   ],
   "source": [
    "print(df[\"_source.sub_product\"].value_counts())"
   ]
  },
  {
   "cell_type": "code",
   "execution_count": 253,
   "metadata": {
    "id": "Dwcty-wmJrFw"
   },
   "outputs": [
    {
     "name": "stdout",
     "output_type": "stream",
     "text": [
      "Index(['_index', '_type', '_id', '_score', '_source.tags', '_source.zip_code',\n",
      "       '_source.complaint_id', '_source.issue', '_source.date_received',\n",
      "       '_source.state', '_source.consumer_disputed', '_source.product',\n",
      "       '_source.company_response', '_source.company', '_source.submitted_via',\n",
      "       '_source.date_sent_to_company', '_source.company_public_response',\n",
      "       '_source.sub_product', '_source.timely',\n",
      "       '_source.complaint_what_happened', '_source.sub_issue',\n",
      "       '_source.consumer_consent_provided'],\n",
      "      dtype='object')\n"
     ]
    }
   ],
   "source": [
    "#print the column names\n",
    "print(df.columns)"
   ]
  },
  {
   "cell_type": "code",
   "execution_count": 254,
   "metadata": {
    "id": "FYCtKXD1JrFw"
   },
   "outputs": [
    {
     "name": "stdout",
     "output_type": "stream",
     "text": [
      "Index(['index', 'type', 'id', 'score', 'tags', 'zip_code', 'complaint_id',\n",
      "       'issue', 'date_received', 'state', 'consumer_disputed', 'product',\n",
      "       'company_response', 'company', 'submitted_via', 'date_sent_to_company',\n",
      "       'company_public_response', 'sub_product', 'timely',\n",
      "       'complaint_what_happened', 'sub_issue', 'consumer_consent_provided'],\n",
      "      dtype='object')\n"
     ]
    }
   ],
   "source": [
    "#Assign new column names\n",
    "# For simplicity and avoiding \".\" values in column, let us remove '^_|_source.' from column names. \n",
    "\n",
    "newcols = [ y.replace('source.','',1) for y in [ x.replace('_','',1) for x in df.columns ]]    \n",
    "df.columns = newcols\n",
    "print(df.columns)"
   ]
  },
  {
   "cell_type": "code",
   "execution_count": 255,
   "metadata": {},
   "outputs": [
    {
     "name": "stdout",
     "output_type": "stream",
     "text": [
      "(78313, 22)\n",
      "True\n",
      "212346\n"
     ]
    }
   ],
   "source": [
    "# let us check shape of the dataframe\n",
    "print(df.shape)\n",
    "print(df.isnull().values.any())\n",
    "print(df.isnull().values.sum())"
   ]
  },
  {
   "cell_type": "code",
   "execution_count": 256,
   "metadata": {},
   "outputs": [
    {
     "data": {
      "text/html": [
       "<div>\n",
       "<style scoped>\n",
       "    .dataframe tbody tr th:only-of-type {\n",
       "        vertical-align: middle;\n",
       "    }\n",
       "\n",
       "    .dataframe tbody tr th {\n",
       "        vertical-align: top;\n",
       "    }\n",
       "\n",
       "    .dataframe thead th {\n",
       "        text-align: right;\n",
       "    }\n",
       "</style>\n",
       "<table border=\"1\" class=\"dataframe\">\n",
       "  <thead>\n",
       "    <tr style=\"text-align: right;\">\n",
       "      <th></th>\n",
       "      <th>index</th>\n",
       "      <th>type</th>\n",
       "      <th>id</th>\n",
       "      <th>tags</th>\n",
       "      <th>zip_code</th>\n",
       "      <th>complaint_id</th>\n",
       "      <th>issue</th>\n",
       "      <th>date_received</th>\n",
       "      <th>state</th>\n",
       "      <th>consumer_disputed</th>\n",
       "      <th>...</th>\n",
       "      <th>company_response</th>\n",
       "      <th>company</th>\n",
       "      <th>submitted_via</th>\n",
       "      <th>date_sent_to_company</th>\n",
       "      <th>company_public_response</th>\n",
       "      <th>sub_product</th>\n",
       "      <th>timely</th>\n",
       "      <th>complaint_what_happened</th>\n",
       "      <th>sub_issue</th>\n",
       "      <th>consumer_consent_provided</th>\n",
       "    </tr>\n",
       "  </thead>\n",
       "  <tbody>\n",
       "    <tr>\n",
       "      <th>count</th>\n",
       "      <td>78313</td>\n",
       "      <td>78313</td>\n",
       "      <td>78313</td>\n",
       "      <td>10900</td>\n",
       "      <td>71556</td>\n",
       "      <td>78313</td>\n",
       "      <td>78313</td>\n",
       "      <td>78313</td>\n",
       "      <td>76322</td>\n",
       "      <td>78313</td>\n",
       "      <td>...</td>\n",
       "      <td>78313</td>\n",
       "      <td>78313</td>\n",
       "      <td>78313</td>\n",
       "      <td>78313</td>\n",
       "      <td>4</td>\n",
       "      <td>67742</td>\n",
       "      <td>78313</td>\n",
       "      <td>78313</td>\n",
       "      <td>32016</td>\n",
       "      <td>77305</td>\n",
       "    </tr>\n",
       "    <tr>\n",
       "      <th>unique</th>\n",
       "      <td>1</td>\n",
       "      <td>1</td>\n",
       "      <td>78313</td>\n",
       "      <td>3</td>\n",
       "      <td>9442</td>\n",
       "      <td>78313</td>\n",
       "      <td>154</td>\n",
       "      <td>3444</td>\n",
       "      <td>62</td>\n",
       "      <td>3</td>\n",
       "      <td>...</td>\n",
       "      <td>8</td>\n",
       "      <td>1</td>\n",
       "      <td>6</td>\n",
       "      <td>3309</td>\n",
       "      <td>3</td>\n",
       "      <td>72</td>\n",
       "      <td>2</td>\n",
       "      <td>20931</td>\n",
       "      <td>205</td>\n",
       "      <td>5</td>\n",
       "    </tr>\n",
       "    <tr>\n",
       "      <th>top</th>\n",
       "      <td>complaint-public-v2</td>\n",
       "      <td>complaint</td>\n",
       "      <td>260735</td>\n",
       "      <td>Older American</td>\n",
       "      <td>606XX</td>\n",
       "      <td>260735</td>\n",
       "      <td>Loan modification,collection,foreclo...</td>\n",
       "      <td>2015-08-27T12:00:00-05:00</td>\n",
       "      <td>CA</td>\n",
       "      <td>N/A</td>\n",
       "      <td>...</td>\n",
       "      <td>Closed with explanation</td>\n",
       "      <td>JPMORGAN CHASE &amp; CO.</td>\n",
       "      <td>Web</td>\n",
       "      <td>2012-06-21T12:00:00-05:00</td>\n",
       "      <td>Company has responded to the consume...</td>\n",
       "      <td>Checking account</td>\n",
       "      <td>Yes</td>\n",
       "      <td></td>\n",
       "      <td>Credit card company isn't resolving ...</td>\n",
       "      <td>N/A</td>\n",
       "    </tr>\n",
       "    <tr>\n",
       "      <th>freq</th>\n",
       "      <td>78313</td>\n",
       "      <td>78313</td>\n",
       "      <td>1</td>\n",
       "      <td>6103</td>\n",
       "      <td>472</td>\n",
       "      <td>1</td>\n",
       "      <td>9743</td>\n",
       "      <td>82</td>\n",
       "      <td>14009</td>\n",
       "      <td>35683</td>\n",
       "      <td>...</td>\n",
       "      <td>60230</td>\n",
       "      <td>78313</td>\n",
       "      <td>47972</td>\n",
       "      <td>105</td>\n",
       "      <td>2</td>\n",
       "      <td>17182</td>\n",
       "      <td>78217</td>\n",
       "      <td>57241</td>\n",
       "      <td>2904</td>\n",
       "      <td>42847</td>\n",
       "    </tr>\n",
       "  </tbody>\n",
       "</table>\n",
       "<p>4 rows × 21 columns</p>\n",
       "</div>"
      ],
      "text/plain": [
       "                      index       type      id            tags zip_code  \\\n",
       "count                 78313      78313   78313           10900    71556   \n",
       "unique                    1          1   78313               3     9442   \n",
       "top     complaint-public-v2  complaint  260735  Older American    606XX   \n",
       "freq                  78313      78313       1            6103      472   \n",
       "\n",
       "       complaint_id                                    issue  \\\n",
       "count         78313                                    78313   \n",
       "unique        78313                                      154   \n",
       "top          260735  Loan modification,collection,foreclo...   \n",
       "freq              1                                     9743   \n",
       "\n",
       "                    date_received  state consumer_disputed  ...  \\\n",
       "count                       78313  76322             78313  ...   \n",
       "unique                       3444     62                 3  ...   \n",
       "top     2015-08-27T12:00:00-05:00     CA               N/A  ...   \n",
       "freq                           82  14009             35683  ...   \n",
       "\n",
       "               company_response               company submitted_via  \\\n",
       "count                     78313                 78313         78313   \n",
       "unique                        8                     1             6   \n",
       "top     Closed with explanation  JPMORGAN CHASE & CO.           Web   \n",
       "freq                      60230                 78313         47972   \n",
       "\n",
       "             date_sent_to_company                  company_public_response  \\\n",
       "count                       78313                                        4   \n",
       "unique                       3309                                        3   \n",
       "top     2012-06-21T12:00:00-05:00  Company has responded to the consume...   \n",
       "freq                          105                                        2   \n",
       "\n",
       "             sub_product timely complaint_what_happened  \\\n",
       "count              67742  78313                   78313   \n",
       "unique                72      2                   20931   \n",
       "top     Checking account    Yes                           \n",
       "freq               17182  78217                   57241   \n",
       "\n",
       "                                      sub_issue consumer_consent_provided  \n",
       "count                                     32016                     77305  \n",
       "unique                                      205                         5  \n",
       "top     Credit card company isn't resolving ...                       N/A  \n",
       "freq                                       2904                     42847  \n",
       "\n",
       "[4 rows x 21 columns]"
      ]
     },
     "execution_count": 256,
     "metadata": {},
     "output_type": "execute_result"
    }
   ],
   "source": [
    "# let us check non-numerical columns\n",
    "df.describe(exclude=\"number\")"
   ]
  },
  {
   "cell_type": "code",
   "execution_count": 257,
   "metadata": {},
   "outputs": [
    {
     "name": "stdout",
     "output_type": "stream",
     "text": [
      "0\n"
     ]
    }
   ],
   "source": [
    "# Do we have Duplicate records ?\n",
    "n_duplicates = df.drop(labels=['id'],axis=1).duplicated().sum()\n",
    "print(n_duplicates)\n",
    "\n",
    "# conclusion - no duplicates, unique IDs"
   ]
  },
  {
   "cell_type": "code",
   "execution_count": 258,
   "metadata": {},
   "outputs": [
    {
     "name": "stdout",
     "output_type": "stream",
     "text": [
      "4 ['index', 'type', 'score', 'company']\n"
     ]
    }
   ],
   "source": [
    "# drop columns with only 1 or less type of value in addition to few more not adding value to analysis.\n",
    "cols_valcounts = {}\n",
    "col_valcounts = { cols:df[cols].unique() for cols in df.columns }\n",
    "cols_to_drop = [ col for col,val in col_valcounts.items() if len(val) <=1 ]\n",
    "print(len(cols_to_drop), cols_to_drop)"
   ]
  },
  {
   "cell_type": "code",
   "execution_count": 259,
   "metadata": {},
   "outputs": [
    {
     "name": "stdout",
     "output_type": "stream",
     "text": [
      "---%s---\n",
      "complaint-public-v2    78313\n",
      "Name: index, dtype: int64\n",
      "---%s---\n",
      "complaint    78313\n",
      "Name: type, dtype: int64\n",
      "---%s---\n",
      "0.0    78313\n",
      "Name: score, dtype: int64\n",
      "---%s---\n",
      "JPMORGAN CHASE & CO.    78313\n",
      "Name: company, dtype: int64\n"
     ]
    }
   ],
   "source": [
    "for each_col in cols_to_drop:\n",
    "    print(\"---%s---\".format(each_col))\n",
    "    print(df[each_col].value_counts())"
   ]
  },
  {
   "cell_type": "code",
   "execution_count": 260,
   "metadata": {},
   "outputs": [],
   "source": [
    "# Let us drop above 4 columns in cols_to_drop given they have unique values and don't add any new info in learning\n",
    "df = df.drop(columns=cols_to_drop)"
   ]
  },
  {
   "cell_type": "code",
   "execution_count": 261,
   "metadata": {},
   "outputs": [
    {
     "data": {
      "text/plain": [
       "<matplotlib.axes._subplots.AxesSubplot at 0x7f845c404070>"
      ]
     },
     "execution_count": 261,
     "metadata": {},
     "output_type": "execute_result"
    },
    {
     "data": {
      "image/png": "[encoded data removed]",
      "text/plain": [
       "<Figure size 1800x720 with 2 Axes>"
      ]
     },
     "metadata": {
      "needs_background": "light"
     },
     "output_type": "display_data"
    }
   ],
   "source": [
    "# Let us find any missing values across features for samples - horizontal investigation\n",
    "import missingno as msno\n",
    "msno.matrix(df,labels=True,sort=\"descending\")"
   ]
  },
  {
   "cell_type": "code",
   "execution_count": 262,
   "metadata": {},
   "outputs": [
    {
     "data": {
      "text/plain": [
       "Older American                   6103\n",
       "Servicemember                    3759\n",
       "Older American, Servicemember    1038\n",
       "Name: tags, dtype: int64"
      ]
     },
     "execution_count": 262,
     "metadata": {},
     "output_type": "execute_result"
    }
   ],
   "source": [
    "df[\"tags\"].value_counts()"
   ]
  },
  {
   "cell_type": "code",
   "execution_count": 263,
   "metadata": {},
   "outputs": [
    {
     "data": {
      "text/plain": [
       "True     46297\n",
       "False    32016\n",
       "Name: sub_issue, dtype: int64"
      ]
     },
     "execution_count": 263,
     "metadata": {},
     "output_type": "execute_result"
    }
   ],
   "source": [
    "df[\"sub_issue\"].isnull().value_counts()"
   ]
  },
  {
   "cell_type": "code",
   "execution_count": 264,
   "metadata": {},
   "outputs": [
    {
     "data": {
      "text/plain": [
       "False    67742\n",
       "True     10571\n",
       "Name: sub_product, dtype: int64"
      ]
     },
     "execution_count": 264,
     "metadata": {},
     "output_type": "execute_result"
    }
   ],
   "source": [
    "df[\"sub_product\"].isnull().value_counts()"
   ]
  },
  {
   "cell_type": "code",
   "execution_count": 265,
   "metadata": {},
   "outputs": [
    {
     "data": {
      "text/plain": [
       "Checking account                              17182\n",
       "General-purpose credit card or charge card    10504\n",
       "Other mortgage                                 8447\n",
       "Conventional fixed mortgage                    4892\n",
       "Credit reporting                               4172\n",
       "                                              ...  \n",
       "Government benefit payment card                   4\n",
       "Gift or merchant card                             4\n",
       "ID prepaid card                                   2\n",
       "Medical debt                                      2\n",
       "Electronic Benefit Transfer / EBT card            1\n",
       "Name: sub_product, Length: 72, dtype: int64"
      ]
     },
     "execution_count": 265,
     "metadata": {},
     "output_type": "execute_result"
    }
   ],
   "source": [
    "df[\"sub_product\"].value_counts()"
   ]
  },
  {
   "cell_type": "code",
   "execution_count": 266,
   "metadata": {},
   "outputs": [
    {
     "data": {
      "text/plain": [
       "Company has responded to the consumer and the CFPB and chooses not to provide a public response    2\n",
       "Company believes complaint relates to a discontinued policy or procedure                           1\n",
       "Company chooses not to provide a public response                                                   1\n",
       "Name: company_public_response, dtype: int64"
      ]
     },
     "execution_count": 266,
     "metadata": {},
     "output_type": "execute_result"
    }
   ],
   "source": [
    "df[\"company_public_response\"].value_counts()"
   ]
  },
  {
   "cell_type": "code",
   "execution_count": 267,
   "metadata": {},
   "outputs": [
    {
     "data": {
      "text/plain": [
       "606XX    472\n",
       "112XX    395\n",
       "900XX    383\n",
       "100XX    372\n",
       "770XX    325\n",
       "        ... \n",
       "43920      1\n",
       "55710      1\n",
       "00682      1\n",
       "10580      1\n",
       "15045      1\n",
       "Name: zip_code, Length: 9442, dtype: int64"
      ]
     },
     "execution_count": 267,
     "metadata": {},
     "output_type": "execute_result"
    }
   ],
   "source": [
    "df[\"zip_code\"].value_counts()"
   ]
  },
  {
   "cell_type": "code",
   "execution_count": 268,
   "metadata": {},
   "outputs": [
    {
     "data": {
      "text/plain": [
       "False    76322\n",
       "True      1991\n",
       "Name: state, dtype: int64"
      ]
     },
     "execution_count": 268,
     "metadata": {},
     "output_type": "execute_result"
    }
   ],
   "source": [
    "df[\"state\"].isnull().value_counts()"
   ]
  },
  {
   "cell_type": "code",
   "execution_count": 269,
   "metadata": {},
   "outputs": [
    {
     "data": {
      "text/plain": [
       "N/A                     42847\n",
       "Consent provided        21077\n",
       "Consent not provided    12285\n",
       "Other                     991\n",
       "Consent withdrawn         105\n",
       "Name: consumer_consent_provided, dtype: int64"
      ]
     },
     "execution_count": 269,
     "metadata": {},
     "output_type": "execute_result"
    }
   ],
   "source": [
    "df[\"consumer_consent_provided\"].value_counts()"
   ]
  },
  {
   "cell_type": "code",
   "execution_count": 270,
   "metadata": {},
   "outputs": [],
   "source": [
    "# Based on above values seen , let us handle features with null values as below :  \n",
    "# 1. \"tags\" =>  only 10-15% values are non-Null, so we should drop this feature\n",
    "# 2. \"sub_issue\" => 50% of the values are null, let us replace Null values as \"unknown\"\n",
    "# 3. \"sub_product\" => Only 10% data is missing i.e. has null values, let us replace NULL values as \"unknown\"\n",
    "# 4. \"company_public_response\" => only 4 rows have value, let us drop it\n",
    "# 5. \"zip_code\" => 6K+ rows don't have zip code, let us replace it as \"000XX\"\n",
    "# 6. \"state\" => only 1991 rows don't have state defined, let us replace them as \"unknown\"\n",
    "# 7. \"consumer_consent_provided\" => small #s are null values, let us replace them as \"unknown\""
   ]
  },
  {
   "cell_type": "code",
   "execution_count": 271,
   "metadata": {},
   "outputs": [],
   "source": [
    "df = df.drop(columns=[\"tags\",\"company_public_response\"])\n",
    "df[\"sub_issue\"] = df[\"sub_issue\"].fillna(\"unknown\")\n",
    "df[\"sub_product\"] = df[\"sub_product\"].fillna(\"unknown\")\n",
    "df[\"zip_code\"] = df[\"zip_code\"].fillna(\"000XX\")\n",
    "df[\"state\"] = df[\"state\"].fillna(\"unknown\")\n",
    "df[\"consumer_consent_provided\"] = df[\"consumer_consent_provided\"].fillna(\"unknown\")"
   ]
  },
  {
   "cell_type": "code",
   "execution_count": 272,
   "metadata": {},
   "outputs": [
    {
     "data": {
      "text/plain": [
       "id                           0\n",
       "zip_code                     0\n",
       "complaint_id                 0\n",
       "issue                        0\n",
       "date_received                0\n",
       "state                        0\n",
       "consumer_disputed            0\n",
       "product                      0\n",
       "company_response             0\n",
       "submitted_via                0\n",
       "date_sent_to_company         0\n",
       "sub_product                  0\n",
       "timely                       0\n",
       "complaint_what_happened      0\n",
       "sub_issue                    0\n",
       "consumer_consent_provided    0\n",
       "dtype: int64"
      ]
     },
     "execution_count": 272,
     "metadata": {},
     "output_type": "execute_result"
    }
   ],
   "source": [
    "df.isnull().sum()"
   ]
  },
  {
   "cell_type": "code",
   "execution_count": 273,
   "metadata": {},
   "outputs": [
    {
     "data": {
      "text/plain": [
       "<matplotlib.axes._subplots.AxesSubplot at 0x7f845cade3d0>"
      ]
     },
     "execution_count": 273,
     "metadata": {},
     "output_type": "execute_result"
    },
    {
     "data": {
      "image/png": "[encoded data removed]",
      "text/plain": [
       "<Figure size 1800x720 with 2 Axes>"
      ]
     },
     "metadata": {
      "needs_background": "light"
     },
     "output_type": "display_data"
    }
   ],
   "source": [
    "msno.matrix(df,labels=True,sort=\"descending\")"
   ]
  },
  {
   "cell_type": "code",
   "execution_count": 274,
   "metadata": {},
   "outputs": [
    {
     "name": "stdout",
     "output_type": "stream",
     "text": [
      "0                                               \n",
      "1        Good morning my name is XXXX XXXX an...\n",
      "2        I upgraded my XXXX XXXX card in XX/X...\n",
      "3                                               \n",
      "4                                               \n",
      "                          ...                   \n",
      "78308                                           \n",
      "78309    On Wednesday, XX/XX/XXXX I called Ch...\n",
      "78310    I am not familiar with XXXX pay and ...\n",
      "78311    I have had flawless credit for 30 yr...\n",
      "78312    Roughly 10+ years ago I closed out m...\n",
      "Name: complaint_what_happened, Length: 78313, dtype: object\n",
      "False    78313\n",
      "Name: complaint_what_happened, dtype: int64\n"
     ]
    }
   ],
   "source": [
    "df[\"issue\"].isnull().value_counts()\n",
    "df[\"complaint_what_happened\"].isnull().value_counts()\n",
    "\n",
    "print(df[\"complaint_what_happened\"])\n",
    "print(df[\"complaint_what_happened\"].isnull().value_counts())\n",
    "df = df.rename(columns={\"complaint_what_happened\":\"complaints\"})"
   ]
  },
  {
   "cell_type": "code",
   "execution_count": 275,
   "metadata": {
    "id": "grQUPFL5JrFx"
   },
   "outputs": [],
   "source": [
    "#Assign nan in place of blanks in the complaints column\n",
    "df[\"complaints\"] = df[\"complaints\"].replace(r'^\\s+$', np.nan, regex=True)\n",
    "df[\"complaints\"] = df[\"complaints\"].replace(r'^$', np.nan, regex=True)"
   ]
  },
  {
   "cell_type": "code",
   "execution_count": 276,
   "metadata": {
    "id": "Jfxd8VSmJrFy"
   },
   "outputs": [
    {
     "name": "stdout",
     "output_type": "stream",
     "text": [
      "True     57241\n",
      "False    21072\n",
      "Name: complaints, dtype: int64\n",
      "False    21072\n",
      "Name: complaints, dtype: int64\n"
     ]
    }
   ],
   "source": [
    "#Remove all rows where complaints column is nan\n",
    "print(df[\"complaints\"].isnull().value_counts())\n",
    "df = df.dropna()\n",
    "print(df[\"complaints\"].isnull().value_counts())"
   ]
  },
  {
   "cell_type": "code",
   "execution_count": 277,
   "metadata": {},
   "outputs": [
    {
     "name": "stdout",
     "output_type": "stream",
     "text": [
      "<class 'pandas.core.frame.DataFrame'>\n",
      "Int64Index: 21072 entries, 1 to 78312\n",
      "Data columns (total 16 columns):\n",
      " #   Column                     Non-Null Count  Dtype \n",
      "---  ------                     --------------  ----- \n",
      " 0   id                         21072 non-null  object\n",
      " 1   zip_code                   21072 non-null  object\n",
      " 2   complaint_id               21072 non-null  object\n",
      " 3   issue                      21072 non-null  object\n",
      " 4   date_received              21072 non-null  object\n",
      " 5   state                      21072 non-null  object\n",
      " 6   consumer_disputed          21072 non-null  object\n",
      " 7   product                    21072 non-null  object\n",
      " 8   company_response           21072 non-null  object\n",
      " 9   submitted_via              21072 non-null  object\n",
      " 10  date_sent_to_company       21072 non-null  object\n",
      " 11  sub_product                21072 non-null  object\n",
      " 12  timely                     21072 non-null  object\n",
      " 13  complaints                 21072 non-null  object\n",
      " 14  sub_issue                  21072 non-null  object\n",
      " 15  consumer_consent_provided  21072 non-null  object\n",
      "dtypes: object(16)\n",
      "memory usage: 2.7+ MB\n",
      "None\n",
      "id                           0\n",
      "zip_code                     0\n",
      "complaint_id                 0\n",
      "issue                        0\n",
      "date_received                0\n",
      "state                        0\n",
      "consumer_disputed            0\n",
      "product                      0\n",
      "company_response             0\n",
      "submitted_via                0\n",
      "date_sent_to_company         0\n",
      "sub_product                  0\n",
      "timely                       0\n",
      "complaints                   0\n",
      "sub_issue                    0\n",
      "consumer_consent_provided    0\n",
      "dtype: int64\n"
     ]
    }
   ],
   "source": [
    "# Let us confirm that we don't have any null valued cell in the entire dataframe.\n",
    "print(df.info())\n",
    "print(df.isnull().sum())"
   ]
  },
  {
   "cell_type": "code",
   "execution_count": 278,
   "metadata": {},
   "outputs": [
    {
     "name": "stdout",
     "output_type": "stream",
     "text": [
      "Index(['id', 'zip_code', 'complaint_id', 'issue', 'date_received', 'state',\n",
      "       'consumer_disputed', 'product', 'company_response', 'submitted_via',\n",
      "       'date_sent_to_company', 'sub_product', 'timely', 'complaints',\n",
      "       'sub_issue', 'consumer_consent_provided'],\n",
      "      dtype='object')\n"
     ]
    }
   ],
   "source": [
    "print(df.columns)"
   ]
  },
  {
   "cell_type": "markdown",
   "metadata": {
    "id": "L944HZpsJrFy"
   },
   "source": [
    "## Prepare the text for topic modeling\n",
    "\n",
    "Once you have removed all the blank complaints, you need to:\n",
    "\n",
    "* Make the text lowercase\n",
    "* Remove text in square brackets\n",
    "* Remove punctuation\n",
    "* Remove words containing numbers\n",
    "\n",
    "\n",
    "Once you have done these cleaning operations you need to perform the following:\n",
    "* Lemmatize the texts\n",
    "* Extract the POS tags of the lemmatized text and remove all the words which have tags other than NN[tag == \"NN\"].\n"
   ]
  },
  {
   "cell_type": "code",
   "execution_count": 279,
   "metadata": {},
   "outputs": [],
   "source": [
    "import contractions\n",
    "\n",
    "def clean_df_column(df_series):\n",
    "\n",
    "    # Function to process incoming data frame series and output cleaned dataframe series\n",
    "    \n",
    "    # Lower case and replace \\n i.e. newline charater\n",
    "    df_series = df_series.str.lower().astype('str')\n",
    "    df_series = df_series.str.replace('\\n','')\n",
    "    \n",
    "    # Let us expand english contractions e.g. I've \n",
    "    df_series = df_series.apply(lambda x: contractions.fix(x))\n",
    "    df_series = df_series.astype(str)\n",
    "    \n",
    "    # remove words in square brackets as asked in the exercise\n",
    "    df_series = df_series.str.replace(r'\\b\\[.*?\\]\\b','',regex=True).astype(str)\n",
    "    \n",
    "    # remove all punctuation charaters\n",
    "    df_series = df_series.str.replace(r'[^\\w\\s]+','',regex=True).astype(str)\n",
    "    \n",
    "    # remove all words with digits in those.\n",
    "    df_series = df_series.str.replace(r'\\b\\w*\\d+\\w*\\b','',regex=True).astype(str)\n",
    "    \n",
    "    # Remove XXXX i.e. masked names\n",
    "    df_series = df_series.str.replace('xxxx','').astype(str)\n",
    "    \n",
    "    # compress multiple blank charaters in succession into a single space charater\n",
    "    df_series = df_series.str.replace(r'\\s+',' ',regex=True).astype(str)\n",
    "    \n",
    "    # Remove any spaces at the start and end of the string\n",
    "    df_series = df_series.str.replace(r'^\\s+|\\s+$','',regex=True).astype(str)\n",
    "    \n",
    "    return df_series"
   ]
  },
  {
   "cell_type": "code",
   "execution_count": 280,
   "metadata": {},
   "outputs": [],
   "source": [
    "# Assign clean_complaints series to cleaned output\n",
    "df[\"clean_complaints\"] = clean_df_column(df[\"complaints\"])"
   ]
  },
  {
   "cell_type": "code",
   "execution_count": 281,
   "metadata": {},
   "outputs": [
    {
     "name": "stdout",
     "output_type": "stream",
     "text": [
      "1                                                                                                                                                                                                                                                                                                                                                                                                                                                                                                                                                                                                                                                                                                                                                                                                                                                                                                                                                                                                                                                                                                                                                                                                                                                                                                                                                                                                                                                                                                                                                                                                                                                                                                                                                                                                                                                                                                   good morning my name is and i appreciate it if you could help me put a stop to chase bank cardmember services in i wrote to chase asking for debt verification and what they sent me a statement which is not acceptable i am asking the bank to validate the debt instead i been receiving mail every month from them attempting to collect a debt i have a right to know this information as a consumer chase account thanks in advance for your help\n",
      "2                                                                                                                                                                                                                                                                                                                                                                                                                                                                                                                                                                                                                                                                                                                                                                                                                                                                                                                                                                                                                                                                                                                                                                                                                                                                                                                                                                                                                                                                                                                                                                                                                                                                                                                                                                                                                                                                                                                                                                                                                                                  i upgraded my card in and was told by the agent who did the upgrade my anniversary date would not change it turned the agent was giving me the wrong information in order to upgrade the account changed my anniversary date from to without my consent has the recording of the agent who was misled me\n",
      "10                                                                                                                                                                                                                                                                                                                                                                                                                                                                                                                                                                                                                                                                                                                                                                                                                                                                                                                                                                                                                                                                                                                                                                                                                                                                                                                                                                                                                                                                                                                                                                                                                                                                                                                                                                                                                                                                                                                                                                                                                                                                                                                                        chase card was reported on however fraudulent application have been submitted my identity without my consent to fraudulently obtain services do not extend credit without verifying the identity of the applicant\n",
      "11                                                                                                                                                                                                                                                                                                                                                                                                                                                                                                                                                                                                                                                                                                                                                                                                                                                                                             on while trying to book a ticket i came across an offer for to be applied towards the ticket if i applied for a rewards card i put in my information for the offer and within less than a minute was notified via the screen that a decision could not be made i immediately contacted and was referred to chase bank i then immediately contacted chase bank within no more than of getting the notification on the screen and i was told by the chase representative i spoke with that my application was denied but she could not state why i asked for more information about the offer and she explained that even if i had been approved the credit offer only gets applied after the first account statement and could not be used to purchase the ticket i then explicitly told her i was glad i got denied and i was absolutely no longer interested in the account i asked that the application be withdrawn and the representative obliged this all happened no later than after putting in the application on notwithstanding my explicit request not to proceed with the application and contrary to what i was told by the chase representative chase did in fact go ahead to open a credit account in my name on this is now being reported in my credit report and chase has refused to correct this information on my credit report even though they went ahead to process an application which i did not consent to and out of their error\n",
      "14                                                                                                                                                                                                                                                                                                                                                                                                                                                                                                                                                                                                                                                                                                                                                                                                                                                                                                                                                                                                                                                                                                                                                                                                                                                                                                                                                                                                                                                                                                                                                                                                                                                                                                                                                                                                                                                                                               my grand son give me check for i deposit it into my chase account after fund clear my chase bank closed my account never paid me my money they said they need to speek with my grand son check was clear money was taking by my chase bank refuse to pay me my money my grand son called chase times they told him i should call not him to verify the check owner he is out the country most the time date happen check number claim number is with chase\n",
      "                                                                                                                                                                                                                                                                                                                                                                                                                                                                                                                                                                                                                                                                                                                                                                                                                                                                                                                                                                                                                                                                                                                                                                                ...                                                                                                                                                                                                                                                                                                                                                                                                                                                                                                                                                                                                                                                                                                                                                                                                                                                                                                                                                                                                                                                                                                                                                                        \n",
      "78303                                                                                                                                                                                                                                                                                                                                                                                                                                                                                                                                                                                                                                                                                                                                                                                                                                                                                                                                                                                                                                                                                                                                                                                                                                                                                                                                                                                                                                                                                                                                                                                                                                                                                             after being a chase card customer for well over a decade was offered multiple solicitations for acquiring new credit cards with chase all with bonus airline miles and hotel points was approved for all new cards with no annual fee for year after less than months with payment always paid as agreed chase closed all my cards one of my approved new cards was never activated but was sent to mechase has done harm to my credit has charged me an annual fee even though they cancelled my account failed to credit my points for both airlines and hotel failed to credit up to for enrollment and failed to credit airline charge as agreed upon\n",
      "78309                                                                                                                                                                                                                                                          on wednesday i called chas my visa credit card provider and asked how to make a claim under their purchase protection benefit on i purchased three high school textbooks for my year old daughter because she transferred to a new school all three books were damaged when a water bottle in her backpack broke the chase representative assured me the textbooks would be covered and instructed me to file a claim at i immediately went to the website and filed the claim including uploading all of the requested paperwork which included a copy of my credit card statement copies of the three receipts and photographic evidence of the damage the website even had books as one of the catagories i could list as the type of item they cover and that i could make a claim on after following up repeatedly on my claim since the insurance provider failed to review my information and contact me within business days to outline the next steps of the process as outlined in an email i received acknowledging my claim submission i called to complain the representative said claims are not looked at by an examiner for eight to ten days and then it would take two days to actually review the claim i responded that this information was contradictory to the information provided in writing in the email sent to me and she said that she is not an adjuster and that is how it works i then asked to speak with an adjuster and she agreed to connect me to one i was then put on hold and when she returned she said my file had just been updated while i was on hold and that the claim was being denied because textbooks have finite lives and are undergo revision after courses end i explained that my daughter s course had not ended and that i was told specifically by chase that my textbook purchases would be covered and was again told they were refusing my claim by the time the call ended i received an email stating that my claim status had been updated and was being denied i find this completely outrageous and borderline fraudulent\n",
      "78310    i am not familiar with pay and did not understand the great risk this provides to consumers i believed this to be safe as it was through my chase bank app i have been with chase for almost years and trust their mobile banking and now am sadly regretful i am being told to deal with the merchant except the merchant has refused to answer my inquiries and now shut down communication the website of the said merchant looks entirely legitamite and is even using the faces of highly successful brands with individuals linked to their social media without their consent in performing research of the phone number and other associated information available through pi it is very clear this merchant is continually creating new account title holders to perpetuate this cycle of fraud furthermore as this is a non fixed voip being used i believe they are fraudulently using the identity of the real chase bank told me they would not even investigate report this to or allow me to file a report or take any potential recourse for the matter there is not even a protocol in place to address this issue yet the chase mobile app verbiage makes a point to deceptively position this app as under the branch of chase banking service and as such imply a degree of entitlement to its customer service protection protocols chase has your back which reads on the very same link as the tab is most certainly not true this places consumers at risk when using this mobile service and does not flag the concern of chase in the slightest at minimum the risk of using on your mobile banking app must realistically be made aware to the public as it stands to be potentially devastating i have plans to file reports with all corresponding authorities as well as notify and contact the individual whose identity is being misused to inform him i also intend to urge my neighbor who works in television that the news network should perhaps present the risk of using and integrated banking apps to the public i understand fraud and scamming are overwhelming rampant but a banking mogul such as chase not having any recourse of action is simply a risk that needs to be disclosed more throughly i would not have clicked on the to link to the extent i did if i would have been better informed\n",
      "78311                                                                                                                                                                                                                                                                                                                             i have had flawless credit for yrs i have had chase credit cards chase freedom specifically since with no problems ever i have done many balance transfers in my life so i have plenty of experience i recently did a balance transfer with chase freedom for did many with other chase cards but apparently not freeedom when i got my first bill my minimum payment was i was shocked i immediately called on the representative told me that the min payment was so high because they were making me pay the balance transfer fee up front but my future payments would be around of total balance which is standard and the rate they advertise i went to pay the next payment on was once again shocked to see my minimum payment was i paid it but i have been trying to work this out with chase ever since apparently the representative was wrong i am actually expected to pay instead of the standard they normally charge because that was written in my user agreement paperwork back in years ago they currently charge to everyone else in the world my other cards including chase are all this is an unreasonable amt to expect someone to pay for credit card i have kids many other bills to pay they never warned me they were so off the charts with their minimum payment percentage except for my original paperwork in they offer everyone else terms they change their terms anytime it benefits them but will not budge to lower it to make this payment more affordable reasonable so i also asked them as soon as i found this out to refund my transfer fee so i could use it to transfer the balance to a different card with a more reasonable minimum payment they refused i also asked if they would transfer to my chase slate card which has min pmt they also refused they will not work with me at all i am a responsible working person i would like to preserve my good credit i could easily transfer again to a different card but i would have to pay another lump sum of again\n",
      "78312                                                                                                                                                                                                                                                                                                                                                                                                                                                                                                                                                                                                                                                                                                                                                                                                                                                                                                                                                                                                                                                                                                                                                                                                                                                                                                                                                                                                                                                                                                                                                                            roughly years ago i closed out my accounts with jp morgan chase bank in order to close out an unsecured line of credit i had to pay it off i did that to close out my account roughly payment when i closed out the accounts and now i get this late payment that showed up on my credit report after years stating i owe close to dollars i have never had any payment schedules or notifications in the years because i paid it off upon calling them i am told i need to show proof i paid it off i would like to think that if indeed i had not paid it off which i did i would have immediately received late payment notifications i left chase bank because of some poor customer service and charges that were way out of line with the other banking institutions\n",
      "Name: clean_complaints, Length: 21072, dtype: object\n"
     ]
    }
   ],
   "source": [
    "pd.set_option('display.max_colwidth', None)\n",
    "print(df[\"clean_complaints\"] )\n",
    "pd.set_option('display.max_colwidth', 40)"
   ]
  },
  {
   "cell_type": "code",
   "execution_count": 282,
   "metadata": {
    "id": "zgOu8t8HJrFz"
   },
   "outputs": [],
   "source": [
    "#Write your function to Lemmatize the texts\n",
    "nlp = spacy.load(\"en_core_web_sm\")\n",
    "\n",
    "def pos_lemmatize(row):\n",
    "    # Accept each row i.e. series and fidn lemma_ and pos_ for each row i.e. complaint\n",
    "    # returns : lemma and pos for each complaint\n",
    "    \n",
    "    nlp_list = nlp(row.values[0])\n",
    "    x = \" \".join([w.lemma_ for w in nlp_list])\n",
    "    y = \" \".join([w.pos_ for w in nlp_list])\n",
    "    return x, y\n",
    "\n",
    "# temp copy of one column only\n",
    "df_temp = df[[\"clean_complaints\"]].copy()\n",
    "\n",
    "df_temp[['clean_complaints_lemma', 'clean_complaints_pos']] = df_temp.apply(\n",
    "    lambda row: pd.Series(pos_lemmatize(row)), axis=1\n",
    ")\n"
   ]
  },
  {
   "cell_type": "code",
   "execution_count": 283,
   "metadata": {},
   "outputs": [],
   "source": [
    "# Saving to csv file for quick reading later upon notebook closure.\n",
    "df_temp.to_csv(\"df_temp.csv\")"
   ]
  },
  {
   "cell_type": "code",
   "execution_count": 284,
   "metadata": {},
   "outputs": [],
   "source": [
    "df_temp = pd.read_csv(\"df_temp.csv\",header=0,index_col=0)\n",
    "df_temp.index.name = \"Id\"\n",
    "df_temp = df_temp.reset_index()\n",
    "df_temp.index.name = \"row_number\""
   ]
  },
  {
   "cell_type": "code",
   "execution_count": 285,
   "metadata": {},
   "outputs": [
    {
     "name": "stdout",
     "output_type": "stream",
     "text": [
      "            Id                         clean_complaints  \\\n",
      "row_number                                                \n",
      "0            1  good morning my name is and i apprec...   \n",
      "1            2  i upgraded my card in and was told b...   \n",
      "2           10  chase card was reported on however f...   \n",
      "3           11  on while trying to book a ticket i c...   \n",
      "4           14  my grand son give me check for i dep...   \n",
      "\n",
      "                             clean_complaints_lemma  \\\n",
      "row_number                                            \n",
      "0           good morning my name be and I apprec...   \n",
      "1           I upgrade my card in and be tell by ...   \n",
      "2           chase card be report on however frau...   \n",
      "3           on while try to book a ticket I come...   \n",
      "4           my grand son give I check for I depo...   \n",
      "\n",
      "                               clean_complaints_pos  \n",
      "row_number                                           \n",
      "0           ADJ NOUN PRON NOUN AUX CCONJ PRON VE...  \n",
      "1           PRON VERB PRON NOUN ADP CCONJ AUX VE...  \n",
      "2           PROPN NOUN AUX VERB ADP ADV ADJ NOUN...  \n",
      "3           ADP SCONJ VERB PART VERB DET NOUN PR...  \n",
      "4           PRON ADJ NOUN VERB PRON NOUN SCONJ P...  \n"
     ]
    }
   ],
   "source": [
    "print(df_temp.head())"
   ]
  },
  {
   "cell_type": "code",
   "execution_count": 286,
   "metadata": {
    "id": "uXnN7aa_JrF0"
   },
   "outputs": [],
   "source": [
    "#Create a dataframe('df_clean') that will have only the complaints and the lemmatized complaints \n",
    "df_clean = df_temp[['Id', 'clean_complaints', 'clean_complaints_lemma']]"
   ]
  },
  {
   "cell_type": "code",
   "execution_count": 287,
   "metadata": {
    "id": "Kk7fc4DuJrF1"
   },
   "outputs": [],
   "source": [
    "#Write your function to extract the POS tags \n",
    "\n",
    "def pos_tag(text):\n",
    "  # write your code here\n",
    "    lem = str(text[\"clean_complaints_lemma\"])\n",
    "    pos = str(text[\"clean_complaints_pos\"])\n",
    " \n",
    "    # in case, field is blank or nan, let us drop it by converting it as NOUN / unknown\n",
    "    if(pos == \"\" or pos == np.nan or pos == \"nan\"): \n",
    "        pos = \"UNK\"\n",
    "    if(lem == \"\" or lem == np.nan or lem == \"nan\"):\n",
    "        lem = \"unknown\"\n",
    "    \n",
    "    # If it is noun, we want to include in the tokens\n",
    "    idx_list = [ idx for idx,id in enumerate(pos.split(\" \")) if id == 'NOUN' ]\n",
    "\n",
    "    if(idx_list and len(idx_list) > 0):\n",
    "        lem_list = [ lem.split()[each_idx] for each_idx in idx_list ] \n",
    "        #print(lem_list)\n",
    "    else:\n",
    "        lem_list_return = \"unknown\"\n",
    "        return lem_list_return\n",
    "   \n",
    "    if(lem_list and len(lem_list) > 0):\n",
    "        lem_list_return = \" \".join(lem_list)\n",
    "    else:\n",
    "        lem_list_return = \"unknown\"\n",
    "\n",
    "    return lem_list_return\n",
    "\n",
    "# temp copy of required columns only\n",
    "df_temp_2 = df_temp[['clean_complaints_lemma', 'clean_complaints_pos']].copy()\n",
    "        \n",
    "#df_clean[\"complaint_POS_removed\"] =  #this column should contain lemmatized text with all the words removed which have tags other than NN[tag == \"NN\"].\n",
    "df_clean[\"complaint_POS_removed\"] = df_temp_2.apply(\n",
    "    lambda row: pd.Series(pos_tag(row)), axis=1\n",
    ")\n"
   ]
  },
  {
   "cell_type": "code",
   "execution_count": 288,
   "metadata": {},
   "outputs": [],
   "source": [
    "# saving to csv in case we close notebook \n",
    "df_clean.to_csv(\"df_clean.csv\",header=True)"
   ]
  },
  {
   "cell_type": "code",
   "execution_count": 289,
   "metadata": {
    "id": "AjxfchvFJrF2"
   },
   "outputs": [
    {
     "data": {
      "text/html": [
       "<div>\n",
       "<style scoped>\n",
       "    .dataframe tbody tr th:only-of-type {\n",
       "        vertical-align: middle;\n",
       "    }\n",
       "\n",
       "    .dataframe tbody tr th {\n",
       "        vertical-align: top;\n",
       "    }\n",
       "\n",
       "    .dataframe thead th {\n",
       "        text-align: right;\n",
       "    }\n",
       "</style>\n",
       "<table border=\"1\" class=\"dataframe\">\n",
       "  <thead>\n",
       "    <tr style=\"text-align: right;\">\n",
       "      <th></th>\n",
       "      <th>Id</th>\n",
       "      <th>clean_complaints</th>\n",
       "      <th>clean_complaints_lemma</th>\n",
       "      <th>complaint_POS_removed</th>\n",
       "    </tr>\n",
       "    <tr>\n",
       "      <th>row_number</th>\n",
       "      <th></th>\n",
       "      <th></th>\n",
       "      <th></th>\n",
       "      <th></th>\n",
       "    </tr>\n",
       "  </thead>\n",
       "  <tbody>\n",
       "    <tr>\n",
       "      <th>0</th>\n",
       "      <td>1</td>\n",
       "      <td>good morning my name is and i apprec...</td>\n",
       "      <td>good morning my name be and I apprec...</td>\n",
       "      <td>morning name stop bank cardmember se...</td>\n",
       "    </tr>\n",
       "    <tr>\n",
       "      <th>1</th>\n",
       "      <td>2</td>\n",
       "      <td>i upgraded my card in and was told b...</td>\n",
       "      <td>I upgrade my card in and be tell by ...</td>\n",
       "      <td>card agent anniversary date agent in...</td>\n",
       "    </tr>\n",
       "    <tr>\n",
       "      <th>2</th>\n",
       "      <td>10</td>\n",
       "      <td>chase card was reported on however f...</td>\n",
       "      <td>chase card be report on however frau...</td>\n",
       "      <td>card application identity consent se...</td>\n",
       "    </tr>\n",
       "    <tr>\n",
       "      <th>3</th>\n",
       "      <td>11</td>\n",
       "      <td>on while trying to book a ticket i c...</td>\n",
       "      <td>on while try to book a ticket I come...</td>\n",
       "      <td>ticket offer ticket reward card info...</td>\n",
       "    </tr>\n",
       "    <tr>\n",
       "      <th>4</th>\n",
       "      <td>14</td>\n",
       "      <td>my grand son give me check for i dep...</td>\n",
       "      <td>my grand son give I check for I depo...</td>\n",
       "      <td>son check chase account fund chase a...</td>\n",
       "    </tr>\n",
       "  </tbody>\n",
       "</table>\n",
       "</div>"
      ],
      "text/plain": [
       "            Id                         clean_complaints  \\\n",
       "row_number                                                \n",
       "0            1  good morning my name is and i apprec...   \n",
       "1            2  i upgraded my card in and was told b...   \n",
       "2           10  chase card was reported on however f...   \n",
       "3           11  on while trying to book a ticket i c...   \n",
       "4           14  my grand son give me check for i dep...   \n",
       "\n",
       "                             clean_complaints_lemma  \\\n",
       "row_number                                            \n",
       "0           good morning my name be and I apprec...   \n",
       "1           I upgrade my card in and be tell by ...   \n",
       "2           chase card be report on however frau...   \n",
       "3           on while try to book a ticket I come...   \n",
       "4           my grand son give I check for I depo...   \n",
       "\n",
       "                              complaint_POS_removed  \n",
       "row_number                                           \n",
       "0           morning name stop bank cardmember se...  \n",
       "1           card agent anniversary date agent in...  \n",
       "2           card application identity consent se...  \n",
       "3           ticket offer ticket reward card info...  \n",
       "4           son check chase account fund chase a...  "
      ]
     },
     "execution_count": 289,
     "metadata": {},
     "output_type": "execute_result"
    }
   ],
   "source": [
    "#The clean dataframe should now contain the raw complaint, lemmatized complaint and the complaint after removing POS tags.\n",
    "df_clean = pd.read_csv(\"df_clean.csv\",header=0,index_col=0)\n",
    "df_clean.head()"
   ]
  },
  {
   "cell_type": "markdown",
   "metadata": {
    "id": "_7Un1AElJrF2"
   },
   "source": [
    "## Exploratory data analysis to get familiar with the data.\n",
    "\n",
    "Write the code in this task to perform the following:\n",
    "\n",
    "*   Visualise the data according to the 'Complaint' character length\n",
    "*   Using a word cloud find the top 40 words by frequency among all the articles after processing the text\n",
    "*   Find the top unigrams,bigrams and trigrams by frequency among all the complaints after processing the text. ‘\n",
    "\n",
    "\n"
   ]
  },
  {
   "cell_type": "code",
   "execution_count": 290,
   "metadata": {
    "id": "q-zaqJF6JrF2"
   },
   "outputs": [
    {
     "name": "stdout",
     "output_type": "stream",
     "text": [
      "[439, 296, 209, 1404, 442, 29, 2217, 1307, 3398, 127]\n"
     ]
    }
   ],
   "source": [
    "# Write your code here to visualise the data according to the 'Complaint' character length\n",
    "sentence_lengths = [ len(str(x)) for x in df_clean[\"clean_complaints\"].to_list() ]\n",
    "print(sentence_lengths[0:10])"
   ]
  },
  {
   "cell_type": "code",
   "execution_count": 291,
   "metadata": {},
   "outputs": [
    {
     "data": {
      "image/png": "[encoded data removed]",
      "text/plain": [
       "<Figure size 432x288 with 1 Axes>"
      ]
     },
     "metadata": {
      "needs_background": "light"
     },
     "output_type": "display_data"
    }
   ],
   "source": [
    "import matplotlib.pyplot as plt\n",
    "plt.hist(sentence_lengths, bins=500)\n",
    "plt.xlabel(\"Charater Length\")\n",
    "plt.ylabel(\"Frequency\")\n",
    "plt.title(\"Distribution of Complaint sentence length\")\n",
    "plt.show()"
   ]
  },
  {
   "cell_type": "markdown",
   "metadata": {
    "id": "T9jD_6SeJrF3"
   },
   "source": [
    "#### Find the top 40 words by frequency among all the articles after processing the text."
   ]
  },
  {
   "cell_type": "code",
   "execution_count": 292,
   "metadata": {
    "id": "QcfdvtfZJrF3"
   },
   "outputs": [
    {
     "name": "stdout",
     "output_type": "stream",
     "text": [
      "morning name stop bank cardmember service debt verification statement bank debt mail month debt righ\n"
     ]
    },
    {
     "data": {
      "image/png": "[encoded data removed]",
      "text/plain": [
       "<Figure size 800x800 with 1 Axes>"
      ]
     },
     "metadata": {
      "needs_background": "light"
     },
     "output_type": "display_data"
    }
   ],
   "source": [
    "#Using a word cloud find the top 40 words by frequency among all the articles after processing the text\n",
    "from PIL import Image\n",
    "from wordcloud import WordCloud, STOPWORDS\n",
    "\n",
    "stopwords = set(STOPWORDS)\n",
    "\n",
    "text = \" \".join([ review for review in df_clean[\"complaint_POS_removed\"] ])\n",
    "print(text[0:100])\n",
    "\n",
    "# Blank Image file to be opened and converted into numpy array\n",
    "image = Image.open(\"Blank.jpg\")\n",
    "# Convert the image to a numpy array\n",
    "image_array = np.array(image)\n",
    "\n",
    "# Generate the word cloud\n",
    "wordcloud = WordCloud(background_color='white', max_words=40, stopwords=STOPWORDS).generate(text)\n",
    "\n",
    "# Create a new figure and plot the word cloud\n",
    "plt.figure(figsize=(8, 8), dpi=100)\n",
    "plt.imshow(wordcloud, interpolation='bilinear')\n",
    "plt.axis('off')\n",
    "\n",
    "# Display the word cloud\n",
    "plt.show()"
   ]
  },
  {
   "cell_type": "code",
   "execution_count": 293,
   "metadata": {
    "id": "OkSmc3UaJrF4"
   },
   "outputs": [],
   "source": [
    "#Removing -PRON- from the text corpus\n",
    "df_clean['Complaint_clean'] = df_clean['complaint_POS_removed'].str.replace('-PRON-', '')"
   ]
  },
  {
   "cell_type": "markdown",
   "metadata": {
    "id": "5DfCSbbmJrF4"
   },
   "source": [
    "#### Find the top unigrams,bigrams and trigrams by frequency among all the complaints after processing the text."
   ]
  },
  {
   "cell_type": "code",
   "execution_count": 294,
   "metadata": {
    "id": "5mbk5DS5JrF4"
   },
   "outputs": [],
   "source": [
    "#Write your code here to find the top 30 unigram frequency among the complaints in the cleaned datafram(df_clean). \n",
    "import nltk \n",
    "from nltk import word_tokenize\n",
    "from nltk.util import ngrams\n",
    "\n",
    "tokens = word_tokenize(text)\n"
   ]
  },
  {
   "cell_type": "code",
   "execution_count": 295,
   "metadata": {
    "id": "YX7fedm1JrF8"
   },
   "outputs": [
    {
     "name": "stdout",
     "output_type": "stream",
     "text": [
      "<FreqDist with 16010 samples and 1075934 outcomes>\n"
     ]
    }
   ],
   "source": [
    "#Print the top 10 words in the unigram frequency\n",
    "unigrams = list(ngrams(tokens, 1))\n",
    "unifreq = nltk.FreqDist(unigrams)\n",
    "print(unifreq)\n",
    "\n",
    "uni_dict = dict(sorted(unifreq.items(), key=lambda item: item[1], reverse=True))\n",
    "uni_dict = dict(list(uni_dict.items())[:10])"
   ]
  },
  {
   "cell_type": "code",
   "execution_count": 296,
   "metadata": {},
   "outputs": [
    {
     "name": "stdout",
     "output_type": "stream",
     "text": [
      "('chase',) 50762\n",
      "('account',) 47765\n",
      "('credit',) 32617\n",
      "('card',) 30159\n",
      "('payment',) 21108\n",
      "('bank',) 17614\n",
      "('time',) 15993\n",
      "('day',) 12927\n",
      "('charge',) 12091\n",
      "('money',) 11914\n"
     ]
    }
   ],
   "source": [
    "for k,v in uni_dict.items():\n",
    "    print(k,v)"
   ]
  },
  {
   "cell_type": "code",
   "execution_count": 297,
   "metadata": {
    "id": "aV7kD7w8JrF8"
   },
   "outputs": [
    {
     "name": "stdout",
     "output_type": "stream",
     "text": [
      "<FreqDist with 278561 samples and 1075933 outcomes>\n"
     ]
    }
   ],
   "source": [
    "#Write your code here to find the top 30 bigram frequency among the complaints in the cleaned datafram(df_clean). \n",
    "bigrams = list(ngrams(tokens, 2))\n",
    "bifreq = nltk.FreqDist(bigrams)\n",
    "print(bifreq)\n",
    "\n",
    "bi_dict = dict(sorted(bifreq.items(), key=lambda item: item[1], reverse=True))\n",
    "bi_dict = dict(list(bi_dict.items())[:30])\n"
   ]
  },
  {
   "cell_type": "code",
   "execution_count": 298,
   "metadata": {
    "id": "NPnMNIpyJrF9"
   },
   "outputs": [
    {
     "name": "stdout",
     "output_type": "stream",
     "text": [
      "('credit', 'card') 12845\n",
      "('credit', 'report') 3830\n",
      "('chase', 'credit') 3278\n",
      "('account', 'chase') 3220\n",
      "('chase', 'account') 3113\n",
      "('customer', 'service') 3082\n",
      "('account', 'account') 2839\n",
      "('checking', 'account') 2609\n",
      "('bank', 'account') 2299\n",
      "('debit', 'card') 2015\n"
     ]
    }
   ],
   "source": [
    "#Print the top 10 words in the bigram frequency\n",
    "bi_dict_10 = dict(list(bi_dict.items())[:10])\n",
    "for k,v in bi_dict_10.items():\n",
    "    print(k,v)"
   ]
  },
  {
   "cell_type": "code",
   "execution_count": 299,
   "metadata": {
    "id": "Xkh7vtbtJrF-"
   },
   "outputs": [
    {
     "name": "stdout",
     "output_type": "stream",
     "text": [
      "<FreqDist with 769848 samples and 1075932 outcomes>\n"
     ]
    }
   ],
   "source": [
    "#Write your code here to find the top 30 trigram frequency among the complaints in the cleaned datafram(df_clean). \n",
    "trigrams = list(ngrams(tokens, 3))\n",
    "trifreq = nltk.FreqDist(trigrams)\n",
    "\n",
    "print(trifreq)\n",
    "\n",
    "tri_dict = dict(sorted(trifreq.items(), key=lambda item: item[1], reverse=True))\n",
    "tri_dict = dict(list(tri_dict.items())[:30])"
   ]
  },
  {
   "cell_type": "code",
   "execution_count": 300,
   "metadata": {
    "id": "REcVxNfvJrF-"
   },
   "outputs": [
    {
     "name": "stdout",
     "output_type": "stream",
     "text": [
      "('chase', 'credit', 'card') 2289\n",
      "('_', '_', '_') 1085\n",
      "('credit', 'card', 'account') 1010\n",
      "('credit', 'card', 'company') 1003\n",
      "('credit', 'card', 'chase') 721\n",
      "('credit', 'card', 'credit') 584\n",
      "('inquiry', 'credit', 'report') 550\n",
      "('account', 'credit', 'card') 511\n",
      "('card', 'credit', 'card') 482\n",
      "('credit', 'report', 'credit') 394\n"
     ]
    }
   ],
   "source": [
    "#Print the top 10 words in the trigram frequency\n",
    "tri_dict_10 = dict(list(tri_dict.items())[:10])\n",
    "for k,v in tri_dict_10.items():\n",
    "    print(k,v)"
   ]
  },
  {
   "cell_type": "markdown",
   "metadata": {
    "id": "yUXzFji0JrF_"
   },
   "source": [
    "## The personal details of customer has been masked in the dataset with xxxx. Let's remove the masked text as this will be of no use for our analysis"
   ]
  },
  {
   "cell_type": "code",
   "execution_count": 301,
   "metadata": {
    "id": "wKda-a_IJrF_"
   },
   "outputs": [],
   "source": [
    "df_clean['Complaint_clean'] = df_clean['Complaint_clean'].str.replace('xxxx','')"
   ]
  },
  {
   "cell_type": "code",
   "execution_count": 302,
   "metadata": {
    "id": "9UIFk8fQJrF_"
   },
   "outputs": [
    {
     "data": {
      "text/html": [
       "<div>\n",
       "<style scoped>\n",
       "    .dataframe tbody tr th:only-of-type {\n",
       "        vertical-align: middle;\n",
       "    }\n",
       "\n",
       "    .dataframe tbody tr th {\n",
       "        vertical-align: top;\n",
       "    }\n",
       "\n",
       "    .dataframe thead th {\n",
       "        text-align: right;\n",
       "    }\n",
       "</style>\n",
       "<table border=\"1\" class=\"dataframe\">\n",
       "  <thead>\n",
       "    <tr style=\"text-align: right;\">\n",
       "      <th></th>\n",
       "      <th>Id</th>\n",
       "      <th>clean_complaints</th>\n",
       "      <th>clean_complaints_lemma</th>\n",
       "      <th>complaint_POS_removed</th>\n",
       "      <th>Complaint_clean</th>\n",
       "    </tr>\n",
       "    <tr>\n",
       "      <th>row_number</th>\n",
       "      <th></th>\n",
       "      <th></th>\n",
       "      <th></th>\n",
       "      <th></th>\n",
       "      <th></th>\n",
       "    </tr>\n",
       "  </thead>\n",
       "  <tbody>\n",
       "    <tr>\n",
       "      <th>0</th>\n",
       "      <td>1</td>\n",
       "      <td>good morning my name is and i apprec...</td>\n",
       "      <td>good morning my name be and I apprec...</td>\n",
       "      <td>morning name stop bank cardmember se...</td>\n",
       "      <td>morning name stop bank cardmember se...</td>\n",
       "    </tr>\n",
       "    <tr>\n",
       "      <th>1</th>\n",
       "      <td>2</td>\n",
       "      <td>i upgraded my card in and was told b...</td>\n",
       "      <td>I upgrade my card in and be tell by ...</td>\n",
       "      <td>card agent anniversary date agent in...</td>\n",
       "      <td>card agent anniversary date agent in...</td>\n",
       "    </tr>\n",
       "    <tr>\n",
       "      <th>2</th>\n",
       "      <td>10</td>\n",
       "      <td>chase card was reported on however f...</td>\n",
       "      <td>chase card be report on however frau...</td>\n",
       "      <td>card application identity consent se...</td>\n",
       "      <td>card application identity consent se...</td>\n",
       "    </tr>\n",
       "    <tr>\n",
       "      <th>3</th>\n",
       "      <td>11</td>\n",
       "      <td>on while trying to book a ticket i c...</td>\n",
       "      <td>on while try to book a ticket I come...</td>\n",
       "      <td>ticket offer ticket reward card info...</td>\n",
       "      <td>ticket offer ticket reward card info...</td>\n",
       "    </tr>\n",
       "    <tr>\n",
       "      <th>4</th>\n",
       "      <td>14</td>\n",
       "      <td>my grand son give me check for i dep...</td>\n",
       "      <td>my grand son give I check for I depo...</td>\n",
       "      <td>son check chase account fund chase a...</td>\n",
       "      <td>son check chase account fund chase a...</td>\n",
       "    </tr>\n",
       "  </tbody>\n",
       "</table>\n",
       "</div>"
      ],
      "text/plain": [
       "            Id                         clean_complaints  \\\n",
       "row_number                                                \n",
       "0            1  good morning my name is and i apprec...   \n",
       "1            2  i upgraded my card in and was told b...   \n",
       "2           10  chase card was reported on however f...   \n",
       "3           11  on while trying to book a ticket i c...   \n",
       "4           14  my grand son give me check for i dep...   \n",
       "\n",
       "                             clean_complaints_lemma  \\\n",
       "row_number                                            \n",
       "0           good morning my name be and I apprec...   \n",
       "1           I upgrade my card in and be tell by ...   \n",
       "2           chase card be report on however frau...   \n",
       "3           on while try to book a ticket I come...   \n",
       "4           my grand son give I check for I depo...   \n",
       "\n",
       "                              complaint_POS_removed  \\\n",
       "row_number                                            \n",
       "0           morning name stop bank cardmember se...   \n",
       "1           card agent anniversary date agent in...   \n",
       "2           card application identity consent se...   \n",
       "3           ticket offer ticket reward card info...   \n",
       "4           son check chase account fund chase a...   \n",
       "\n",
       "                                    Complaint_clean  \n",
       "row_number                                           \n",
       "0           morning name stop bank cardmember se...  \n",
       "1           card agent anniversary date agent in...  \n",
       "2           card application identity consent se...  \n",
       "3           ticket offer ticket reward card info...  \n",
       "4           son check chase account fund chase a...  "
      ]
     },
     "execution_count": 302,
     "metadata": {},
     "output_type": "execute_result"
    }
   ],
   "source": [
    "#All masked texts has been removed\n",
    "df_clean.head()"
   ]
  },
  {
   "cell_type": "markdown",
   "metadata": {
    "id": "k-I0k0QtJrGA"
   },
   "source": [
    "## Feature Extraction\n",
    "Convert the raw texts to a matrix of TF-IDF features\n",
    "\n",
    "**max_df** is used for removing terms that appear too frequently, also known as \"corpus-specific stop words\"\n",
    "max_df = 0.95 means \"ignore terms that appear in more than 95% of the complaints\"\n",
    "\n",
    "**min_df** is used for removing terms that appear too infrequently\n",
    "min_df = 2 means \"ignore terms that appear in less than 2 complaints\""
   ]
  },
  {
   "cell_type": "code",
   "execution_count": 303,
   "metadata": {
    "id": "Y8fGwaCPJrGA"
   },
   "outputs": [],
   "source": [
    "#Write your code here to initialise the TfidfVectorizer \n",
    "from sklearn.feature_extraction.text import TfidfVectorizer\n",
    "tfidfvectorizer = TfidfVectorizer(analyzer='word',stop_words= 'english', max_df=0.95, min_df=2)"
   ]
  },
  {
   "cell_type": "markdown",
   "metadata": {
    "id": "yYzD85nTJrGA"
   },
   "source": [
    "#### Create a document term matrix using fit_transform\n",
    "\n",
    "The contents of a document term matrix are tuples of (complaint_id,token_id) tf-idf score:\n",
    "The tuples that are not there have a tf-idf score of 0"
   ]
  },
  {
   "cell_type": "code",
   "execution_count": 304,
   "metadata": {
    "id": "ffzdDpp_JrGB"
   },
   "outputs": [
    {
     "name": "stdout",
     "output_type": "stream",
     "text": [
      "  (0, 2781)\t0.1967098866757134\n",
      "  (0, 124)\t0.2553952844257836\n",
      "  (0, 5918)\t0.25578181274412437\n",
      "  (0, 34)\t0.07829703214812296\n",
      "  (0, 989)\t0.0706441607937621\n",
      "  (0, 1326)\t0.17586697753918823\n",
      "  (0, 3039)\t0.12580742991069505\n",
      "  (0, 5098)\t0.20830863315766188\n",
      "  (0, 3805)\t0.12578672914796185\n",
      "  (0, 3527)\t0.17767810293001596\n",
      "  (0, 5614)\t0.1551612331825574\n",
      "  (0, 6308)\t0.24934696772412435\n",
      "  (0, 1607)\t0.5450614257970949\n",
      "  (0, 5324)\t0.13354562050721877\n",
      "  (0, 858)\t0.31105277682564975\n",
      "  (0, 503)\t0.21012305760969616\n",
      "  (0, 5657)\t0.29577414550528025\n",
      "  (0, 3821)\t0.2289736397421351\n",
      "  (1, 4843)\t0.25147104314192337\n",
      "  (1, 1301)\t0.231360339827172\n",
      "  (1, 4100)\t0.16084922556505374\n",
      "  (1, 1566)\t0.2722441277809068\n",
      "  (1, 258)\t0.6642491389768389\n",
      "  (1, 165)\t0.5635432374022639\n",
      "  (1, 849)\t0.08370862598704949\n",
      "  :\t:\n",
      "  (3, 3716)\t0.11618887041364832\n",
      "  (3, 5093)\t0.12738219476961038\n",
      "  (3, 4041)\t0.44802666705765165\n",
      "  (3, 5979)\t0.3941904632540987\n",
      "  (3, 1476)\t0.1867895688255664\n",
      "  (3, 293)\t0.5177606780814277\n",
      "  (3, 849)\t0.05024251570751766\n",
      "  (3, 34)\t0.12561018470797194\n",
      "  (3, 989)\t0.11333285365219117\n",
      "  (3, 3039)\t0.20183005760450756\n",
      "  (3, 5614)\t0.08297390345825079\n",
      "  (3, 503)\t0.05618262351635956\n",
      "  (4, 1072)\t0.12629870763728077\n",
      "  (4, 3995)\t0.20838203755426857\n",
      "  (4, 1434)\t0.21138185233745943\n",
      "  (4, 4158)\t0.19410359033222496\n",
      "  (4, 5985)\t0.1558713655522\n",
      "  (4, 3794)\t0.2901541407455794\n",
      "  (4, 2542)\t0.1205851281369584\n",
      "  (4, 1016)\t0.4822314503993447\n",
      "  (4, 5505)\t0.6443692358924337\n",
      "  (4, 1566)\t0.12131437321862629\n",
      "  (4, 34)\t0.12434151799912037\n",
      "  (4, 989)\t0.22437637672530614\n",
      "  (4, 503)\t0.0834227659497327\n"
     ]
    }
   ],
   "source": [
    "#Write your code here to create the Document Term Matrix by transforming the complaints column present in df_clean.\n",
    "\n",
    "# replace any leading and trailing spaces and build corpus from each row in the dataframe column\n",
    "text = [ re.sub('\\s+', ' ', review) for review in df_clean[\"Complaint_clean\"] ]\n",
    "text = [ re.sub('^\\s+|\\s+$', '', review) for review in text ]\n",
    "\n",
    "# TFIDF Vecror building\n",
    "tfidf_matrix = tfidfvectorizer.fit_transform(text)\n",
    "dense_matrix = tfidf_matrix.toarray()\n",
    "feature_names = tfidfvectorizer.get_feature_names_out()\n",
    "print(tfidf_matrix[0:5])"
   ]
  },
  {
   "cell_type": "markdown",
   "metadata": {
    "id": "7Q9lwvNEJrGB"
   },
   "source": [
    "## Topic Modelling using NMF\n",
    "\n",
    "Non-Negative Matrix Factorization (NMF) is an unsupervised technique so there are no labeling of topics that the model will be trained on. The way it works is that, NMF decomposes (or factorizes) high-dimensional vectors into a lower-dimensional representation. These lower-dimensional vectors are non-negative which also means their coefficients are non-negative.\n",
    "\n",
    "In this task you have to perform the following:\n",
    "\n",
    "* Find the best number of clusters \n",
    "* Apply the best number to create word clusters\n",
    "* Inspect & validate the correction of each cluster wrt the complaints \n",
    "* Correct the labels if needed \n",
    "* Map the clusters to topics/cluster names"
   ]
  },
  {
   "cell_type": "code",
   "execution_count": 305,
   "metadata": {
    "id": "amLT4omWJrGB"
   },
   "outputs": [],
   "source": [
    "from sklearn.decomposition import NMF"
   ]
  },
  {
   "cell_type": "markdown",
   "metadata": {
    "id": "0wYR1xUTJrGD"
   },
   "source": [
    "## Manual Topic Modeling\n",
    "You need to do take the trial & error approach to find the best num of topics for your NMF model.\n",
    "\n",
    "The only parameter that is required is the number of components i.e. the number of topics we want. This is the most crucial step in the whole topic modeling process and will greatly affect how good your final topics are."
   ]
  },
  {
   "cell_type": "code",
   "execution_count": 306,
   "metadata": {
    "id": "sgd2A6bhJrGD"
   },
   "outputs": [],
   "source": [
    "#Load your nmf_model with the n_components i.e 5\n",
    "\n",
    "num_topics = 5\n",
    "\n",
    "#keep the random_state = 40\n",
    "nmf_model = NMF(n_components=num_topics, init='random', max_iter=300, random_state=40)"
   ]
  },
  {
   "cell_type": "code",
   "execution_count": 307,
   "metadata": {
    "id": "VPMDYbt_JrGE"
   },
   "outputs": [
    {
     "data": {
      "text/plain": [
       "6574"
      ]
     },
     "execution_count": 307,
     "metadata": {},
     "output_type": "execute_result"
    }
   ],
   "source": [
    "nmf_model.fit(dense_matrix)\n",
    "len(feature_names)"
   ]
  },
  {
   "cell_type": "code",
   "execution_count": 308,
   "metadata": {
    "id": "16kRfat5JrGE"
   },
   "outputs": [
    {
     "name": "stdout",
     "output_type": "stream",
     "text": [
      "For topic 0 the words with the highest value are:\n",
      "charge         3.437309\n",
      "card           2.065950\n",
      "chase          1.806287\n",
      "transaction    1.400293\n",
      "dispute        1.203264\n",
      "fraud          0.969139\n",
      "claim          0.935210\n",
      "merchant       0.934277\n",
      "fee            0.826706\n",
      "purchase       0.803255\n",
      "service        0.707715\n",
      "time           0.630956\n",
      "email          0.614017\n",
      "phone          0.569388\n",
      "statement      0.533467\n",
      "Name: 0, dtype: float64\n",
      "\n",
      "\n",
      "For topic 1 the words with the highest value are:\n",
      "account        5.006291\n",
      "check          2.346217\n",
      "bank           1.843473\n",
      "money          1.701135\n",
      "fund           1.367959\n",
      "chase          1.260493\n",
      "branch         0.889029\n",
      "deposit        0.888966\n",
      "checking       0.868099\n",
      "day            0.816608\n",
      "business       0.611334\n",
      "number         0.590669\n",
      "transaction    0.532590\n",
      "fee            0.512221\n",
      "customer       0.490427\n",
      "Name: 1, dtype: float64\n",
      "\n",
      "\n",
      "For topic 2 the words with the highest value are:\n",
      "loan            2.866975\n",
      "mortgage        2.018970\n",
      "home            1.058702\n",
      "modification    1.002900\n",
      "chase           0.982537\n",
      "property        0.649000\n",
      "year            0.635832\n",
      "rate            0.570792\n",
      "letter          0.557040\n",
      "document        0.534558\n",
      "time            0.526423\n",
      "foreclosure     0.517941\n",
      "house           0.466834\n",
      "sale            0.441444\n",
      "information     0.393138\n",
      "Name: 2, dtype: float64\n",
      "\n",
      "\n",
      "For topic 3 the words with the highest value are:\n",
      "credit         3.911417\n",
      "card           2.640268\n",
      "report         1.601094\n",
      "inquiry        1.324109\n",
      "chase          0.669241\n",
      "account        0.646136\n",
      "score          0.576673\n",
      "company        0.478009\n",
      "limit          0.395390\n",
      "debt           0.381524\n",
      "application    0.367764\n",
      "information    0.358513\n",
      "balance        0.348556\n",
      "year           0.334413\n",
      "letter         0.315981\n",
      "Name: 3, dtype: float64\n",
      "\n",
      "\n",
      "For topic 4 the words with the highest value are:\n",
      "payment      5.027252\n",
      "balance      0.947935\n",
      "fee          0.892660\n",
      "month        0.797375\n",
      "statement    0.618363\n",
      "day          0.443388\n",
      "chase        0.439833\n",
      "time         0.416155\n",
      "date         0.377577\n",
      "auto         0.357885\n",
      "credit       0.247013\n",
      "year         0.232423\n",
      "error        0.225514\n",
      "car          0.221896\n",
      "account      0.212570\n",
      "Name: 4, dtype: float64\n",
      "\n",
      "\n"
     ]
    }
   ],
   "source": [
    "#Print the Top15 words for each of the topics\n",
    "# Features Matrix\n",
    "nmf_features = nmf_model.transform(dense_matrix)\n",
    "\n",
    "# Components Matrix\n",
    "components_df = pd.DataFrame(nmf_model.components_, \n",
    "                            columns=feature_names)\n",
    "\n",
    "terms =  list(feature_names)\n",
    "\n",
    "for topic in range(components_df.shape[0]):\n",
    "    topic_df = components_df.iloc[topic]\n",
    "    print(f'For topic {topic} the words with the highest value are:')\n",
    "    print(topic_df.nlargest(15))\n",
    "    print('\\n')"
   ]
  },
  {
   "cell_type": "code",
   "execution_count": 309,
   "metadata": {},
   "outputs": [
    {
     "name": "stdout",
     "output_type": "stream",
     "text": [
      "         aa  aaarating      aarp        ab  abandonment  abatement  \\\n",
      "0  0.001156   0.000040  0.011940  0.000000     0.000000   0.000000   \n",
      "1  0.000681   0.000000  0.000000  0.000000     0.000000   0.000054   \n",
      "2  0.000099   0.001165  0.000007  0.001735     0.001171   0.001336   \n",
      "3  0.000000   0.000000  0.013162  0.000000     0.000000   0.000000   \n",
      "4  0.000314   0.000000  0.000000  0.000000     0.000000   0.000510   \n",
      "\n",
      "   abbreviation     abide   ability   absence  ...     youth        yr  \\\n",
      "0      0.000128  0.001118  0.014353  0.001807  ...  0.000033  0.004941   \n",
      "1      0.000000  0.000000  0.030339  0.001238  ...  0.000733  0.003068   \n",
      "2      0.000978  0.000304  0.048272  0.001900  ...  0.000072  0.022649   \n",
      "3      0.000000  0.000404  0.037970  0.002031  ...  0.000000  0.000196   \n",
      "4      0.000000  0.000000  0.028250  0.004456  ...  0.000000  0.011131   \n",
      "\n",
      "        yrs       yup      zero     zilch       zip   zipcode    zombie  \\\n",
      "0  0.000000  0.000024  0.000088  0.000175  0.008372  0.000000  0.000000   \n",
      "1  0.000000  0.000000  0.001841  0.000876  0.000956  0.000024  0.000000   \n",
      "2  0.003058  0.000786  0.000000  0.000029  0.004060  0.000345  0.002687   \n",
      "3  0.001084  0.000000  0.000666  0.000000  0.003277  0.000060  0.001134   \n",
      "4  0.000365  0.000566  0.000128  0.000256  0.005599  0.000000  0.000000   \n",
      "\n",
      "       zone  \n",
      "0  0.004242  \n",
      "1  0.000351  \n",
      "2  0.003448  \n",
      "3  0.000000  \n",
      "4  0.004497  \n",
      "\n",
      "[5 rows x 6574 columns]\n"
     ]
    }
   ],
   "source": [
    "print(components_df.head())"
   ]
  },
  {
   "cell_type": "code",
   "execution_count": 310,
   "metadata": {
    "id": "0OIT7LmFJrGF"
   },
   "outputs": [
    {
     "name": "stdout",
     "output_type": "stream",
     "text": [
      "Topic 00 loan : charge, card, chase, transaction, dispute, fraud, claim, merchant, fee, purchase\n",
      "Topic 01 account_issues : account, check, bank, money, fund, chase, branch, deposit, checking, day\n",
      "Topic 02 credit_card_application : loan, mortgage, home, modification, chase, property, year, rate, letter, document\n",
      "Topic 03 other : credit, card, report, inquiry, chase, account, score, company, limit, debt\n",
      "Topic 04 credit_card_dispute : payment, balance, fee, month, statement, day, chase, time, date, auto\n"
     ]
    }
   ],
   "source": [
    "#Create the best topic for each complaint in terms of integer value 0,1,2,3 & 4\n",
    "\n",
    "# temporarily creating custom topic tuple that I can think of\n",
    "topic_list = (\"loan\", \"account_issues\", \"credit_card_application\", \"other\" , \"credit_card_dispute\",)\n",
    "\n",
    "# create the mapping of Topic and Token Terms\n",
    "\n",
    "def get_descriptor( terms, H, topic_index, top ):\n",
    "  # reverse sort the values to sort the indices\n",
    "  top_indices = np.argsort( H.iloc[topic_index,:] )[::-1]\n",
    "\n",
    "  # get the terms corresponding to the top-ranked indices\n",
    "  top_terms = [ ]\n",
    "  for term_index in top_indices[0:top]:\n",
    "      top_terms.append( terms[term_index] )\n",
    "  return top_terms\n",
    "\n",
    "k = num_topics \n",
    "descriptors = [ ]\n",
    "for topic_index in range(k):\n",
    "  descriptors.append(get_descriptor(terms, components_df, topic_index, 10 ))\n",
    "  str_descriptor = \", \".join( descriptors[topic_index] )\n",
    "  print(\"Topic %02d %s : %s\" % ( topic_index, topic_list[topic_index], str_descriptor ) )\n"
   ]
  },
  {
   "cell_type": "code",
   "execution_count": 311,
   "metadata": {},
   "outputs": [
    {
     "name": "stdout",
     "output_type": "stream",
     "text": [
      "Index(['Id', 'clean_complaints', 'clean_complaints_lemma',\n",
      "       'complaint_POS_removed', 'Complaint_clean'],\n",
      "      dtype='object')\n"
     ]
    }
   ],
   "source": [
    "print(df_clean.columns)"
   ]
  },
  {
   "cell_type": "code",
   "execution_count": 365,
   "metadata": {
    "id": "peyYv-ORJrGF"
   },
   "outputs": [
    {
     "name": "stdout",
     "output_type": "stream",
     "text": [
      "0    0.005777\n",
      "1    0.002667\n",
      "2    0.034936\n",
      "3    0.000936\n",
      "4    0.040676\n",
      "Name: 7, dtype: float64\n",
      "\n",
      " 7th Document belongs to Topic 4 credit_card_dispute \n",
      "Id                                                                                                                                                                                                                                                                                                                                                                                                                                                                                                                                                                                                                                                                                                                                                                                                                                                                                                                                                                                                                                                                                                                                                                                                                                                                                                                                                                                 20\n",
      "clean_complaints          during the summer months i experience a decline income due to my employment therefore i request a one month payment extension with my auto loan company chase for the past almost fours years my request for payment extension is granted i have never been delinquent with my auto loan payment however on my request for a one month payment extension was denied this year i explained my situation to representative and the supervisor with no avail after a lengthy discussion and waiting i was informed the reason for the decline as it is not contractual this reason for denial baffled me and therefore i emailed the office of executive director communications jpmorgan chase co a representative contacted me and stated chase will followup about week later a representative of office called the representative shared her role was help resolve the matter the representative via conference call contacted the department handing my request after reviewing my information my request was still denied based on policy changes i requested an explanation and representative stated a letter will be mailed with explanation i have received letters the reason for denial was not policy changes i would like cfpb help in exploring the denial of my payment extension request especially since i have been clear reason for denial\n",
      "clean_complaints_lemma                                                             during the summer month I experience a decline income due to my employment therefore I request a one month payment extension with my auto loan company chase for the past almost four year my request for payment extension be grant I have never be delinquent with my auto loan payment however on my request for a one month payment extension be deny this year I explain my situation to representative and the supervisor with no avail after a lengthy discussion and wait I be inform the reason for the decline as it be not contractual this reason for denial baffle I and therefore I email the office of executive director communication jpmorgan chase co a representative contact I and state chase will followup about week later a representative of office call the representative share her role be help resolve the matter the representative via conference call contact the department hand my request after review my information my request be still deny base on policy change I request an explanation and representative state a letter will be mail with explanation I have receive letter the reason for denial be not policy change I would like cfpb help in explore the denial of my payment extension request especially since I have be clear reason for denial\n",
      "complaint_POS_removed                                                                                                                                                                                                                                                                                                                                                                                                                                                                                                                                                                                                                                                                                                                                                                summer month decline income employment month payment extension auto loan company chase past year request payment extension auto loan payment request month payment extension year situation supervisor avail discussion reason decline reason denial office director communication representative chase week representative office representative role help matter representative conference call department request information request policy change explanation representative letter explanation letter reason denial policy change cfpb help denial payment extension request reason denial\n",
      "Complaint_clean                                                                                                                                                                                                                                                                                                                                                                                                                                                                                                                                                                                                                                                                                                                                                                      summer month decline income employment month payment extension auto loan company chase past year request payment extension auto loan payment request month payment extension year situation supervisor avail discussion reason decline reason denial office director communication representative chase week representative office representative role help matter representative conference call department request information request policy change explanation representative letter explanation letter reason denial policy change cfpb help denial payment extension request reason denial\n",
      "Topic                                                                                                                                                                                                                                                                                                                                                                                                                                                                                                                                                                                                                                                                                                                                                                                                                                                                                                                                                                                                                                                                                                                                                                                                                                                                                                                                                                               4\n",
      "Name: 7, dtype: object\n"
     ]
    }
   ],
   "source": [
    "#Assign the best topic to each of the cmplaints in Topic Column\n",
    "\n",
    "# Let us check one sample jth complaint.\n",
    "j = 7\n",
    "print(pd.DataFrame(nmf_features).loc[j])\n",
    "\n",
    "predicted_topic = np.argmax(pd.DataFrame(nmf_features).loc[j])\n",
    "topic_name = topic_list[int(predicted_topic)]\n",
    "print(\"\\n {}th Document belongs to Topic {} {} \".\\\n",
    "format(j, predicted_topic, topic_name))\n",
    "\n",
    "pd.set_option('display.max_colwidth', None)\n",
    "print(df_clean.iloc[j])\n",
    "pd.set_option('display.max_colwidth', 40)"
   ]
  },
  {
   "cell_type": "code",
   "execution_count": 313,
   "metadata": {},
   "outputs": [],
   "source": [
    "#df_clean['Topic'] = #write your code to assign topics to each rows.\n",
    "df_clean[\"Topic\"] = df_clean.apply(lambda row: str(np.argmax(pd.DataFrame(nmf_features).loc[row.name])), axis=1)"
   ]
  },
  {
   "cell_type": "code",
   "execution_count": 314,
   "metadata": {
    "id": "fLh_Gf3nJrGF"
   },
   "outputs": [
    {
     "data": {
      "text/html": [
       "<div>\n",
       "<style scoped>\n",
       "    .dataframe tbody tr th:only-of-type {\n",
       "        vertical-align: middle;\n",
       "    }\n",
       "\n",
       "    .dataframe tbody tr th {\n",
       "        vertical-align: top;\n",
       "    }\n",
       "\n",
       "    .dataframe thead th {\n",
       "        text-align: right;\n",
       "    }\n",
       "</style>\n",
       "<table border=\"1\" class=\"dataframe\">\n",
       "  <thead>\n",
       "    <tr style=\"text-align: right;\">\n",
       "      <th></th>\n",
       "      <th>Id</th>\n",
       "      <th>clean_complaints</th>\n",
       "      <th>clean_complaints_lemma</th>\n",
       "      <th>complaint_POS_removed</th>\n",
       "      <th>Complaint_clean</th>\n",
       "      <th>Topic</th>\n",
       "    </tr>\n",
       "    <tr>\n",
       "      <th>row_number</th>\n",
       "      <th></th>\n",
       "      <th></th>\n",
       "      <th></th>\n",
       "      <th></th>\n",
       "      <th></th>\n",
       "      <th></th>\n",
       "    </tr>\n",
       "  </thead>\n",
       "  <tbody>\n",
       "    <tr>\n",
       "      <th>0</th>\n",
       "      <td>1</td>\n",
       "      <td>good morning my name is and i apprec...</td>\n",
       "      <td>good morning my name be and I apprec...</td>\n",
       "      <td>morning name stop bank cardmember se...</td>\n",
       "      <td>morning name stop bank cardmember se...</td>\n",
       "      <td>1</td>\n",
       "    </tr>\n",
       "    <tr>\n",
       "      <th>1</th>\n",
       "      <td>2</td>\n",
       "      <td>i upgraded my card in and was told b...</td>\n",
       "      <td>I upgrade my card in and be tell by ...</td>\n",
       "      <td>card agent anniversary date agent in...</td>\n",
       "      <td>card agent anniversary date agent in...</td>\n",
       "      <td>3</td>\n",
       "    </tr>\n",
       "    <tr>\n",
       "      <th>2</th>\n",
       "      <td>10</td>\n",
       "      <td>chase card was reported on however f...</td>\n",
       "      <td>chase card be report on however frau...</td>\n",
       "      <td>card application identity consent se...</td>\n",
       "      <td>card application identity consent se...</td>\n",
       "      <td>3</td>\n",
       "    </tr>\n",
       "    <tr>\n",
       "      <th>3</th>\n",
       "      <td>11</td>\n",
       "      <td>on while trying to book a ticket i c...</td>\n",
       "      <td>on while try to book a ticket I come...</td>\n",
       "      <td>ticket offer ticket reward card info...</td>\n",
       "      <td>ticket offer ticket reward card info...</td>\n",
       "      <td>3</td>\n",
       "    </tr>\n",
       "    <tr>\n",
       "      <th>4</th>\n",
       "      <td>14</td>\n",
       "      <td>my grand son give me check for i dep...</td>\n",
       "      <td>my grand son give I check for I depo...</td>\n",
       "      <td>son check chase account fund chase a...</td>\n",
       "      <td>son check chase account fund chase a...</td>\n",
       "      <td>1</td>\n",
       "    </tr>\n",
       "  </tbody>\n",
       "</table>\n",
       "</div>"
      ],
      "text/plain": [
       "            Id                         clean_complaints  \\\n",
       "row_number                                                \n",
       "0            1  good morning my name is and i apprec...   \n",
       "1            2  i upgraded my card in and was told b...   \n",
       "2           10  chase card was reported on however f...   \n",
       "3           11  on while trying to book a ticket i c...   \n",
       "4           14  my grand son give me check for i dep...   \n",
       "\n",
       "                             clean_complaints_lemma  \\\n",
       "row_number                                            \n",
       "0           good morning my name be and I apprec...   \n",
       "1           I upgrade my card in and be tell by ...   \n",
       "2           chase card be report on however frau...   \n",
       "3           on while try to book a ticket I come...   \n",
       "4           my grand son give I check for I depo...   \n",
       "\n",
       "                              complaint_POS_removed  \\\n",
       "row_number                                            \n",
       "0           morning name stop bank cardmember se...   \n",
       "1           card agent anniversary date agent in...   \n",
       "2           card application identity consent se...   \n",
       "3           ticket offer ticket reward card info...   \n",
       "4           son check chase account fund chase a...   \n",
       "\n",
       "                                    Complaint_clean Topic  \n",
       "row_number                                                 \n",
       "0           morning name stop bank cardmember se...     1  \n",
       "1           card agent anniversary date agent in...     3  \n",
       "2           card application identity consent se...     3  \n",
       "3           ticket offer ticket reward card info...     3  \n",
       "4           son check chase account fund chase a...     1  "
      ]
     },
     "execution_count": 314,
     "metadata": {},
     "output_type": "execute_result"
    }
   ],
   "source": [
    "df_clean.head()"
   ]
  },
  {
   "cell_type": "code",
   "execution_count": 315,
   "metadata": {
    "id": "aQKpufSPJrGG"
   },
   "outputs": [
    {
     "data": {
      "text/html": [
       "<div>\n",
       "<style scoped>\n",
       "    .dataframe tbody tr th:only-of-type {\n",
       "        vertical-align: middle;\n",
       "    }\n",
       "\n",
       "    .dataframe tbody tr th {\n",
       "        vertical-align: top;\n",
       "    }\n",
       "\n",
       "    .dataframe thead th {\n",
       "        text-align: right;\n",
       "    }\n",
       "</style>\n",
       "<table border=\"1\" class=\"dataframe\">\n",
       "  <thead>\n",
       "    <tr style=\"text-align: right;\">\n",
       "      <th></th>\n",
       "      <th>Id</th>\n",
       "      <th>clean_complaints</th>\n",
       "      <th>clean_complaints_lemma</th>\n",
       "      <th>complaint_POS_removed</th>\n",
       "      <th>Complaint_clean</th>\n",
       "      <th>Topic</th>\n",
       "    </tr>\n",
       "    <tr>\n",
       "      <th>row_number</th>\n",
       "      <th></th>\n",
       "      <th></th>\n",
       "      <th></th>\n",
       "      <th></th>\n",
       "      <th></th>\n",
       "      <th></th>\n",
       "    </tr>\n",
       "  </thead>\n",
       "  <tbody>\n",
       "    <tr>\n",
       "      <th>13</th>\n",
       "      <td>30</td>\n",
       "      <td>to whom it may concern chase bank ch...</td>\n",
       "      <td>to whom it may concern chase bank ch...</td>\n",
       "      <td>concern chase bank overdraft fee ale...</td>\n",
       "      <td>concern chase bank overdraft fee ale...</td>\n",
       "      <td>0</td>\n",
       "    </tr>\n",
       "    <tr>\n",
       "      <th>19</th>\n",
       "      <td>45</td>\n",
       "      <td>i made a purchase with on in the amo...</td>\n",
       "      <td>I make a purchase with on in the amo...</td>\n",
       "      <td>purchase amount transaction dispute ...</td>\n",
       "      <td>purchase amount transaction dispute ...</td>\n",
       "      <td>0</td>\n",
       "    </tr>\n",
       "    <tr>\n",
       "      <th>16</th>\n",
       "      <td>40</td>\n",
       "      <td>a sofa love seat table and chairs an...</td>\n",
       "      <td>a sofa love seat table and chair and...</td>\n",
       "      <td>sofa love seat table chair debit car...</td>\n",
       "      <td>sofa love seat table chair debit car...</td>\n",
       "      <td>0</td>\n",
       "    </tr>\n",
       "    <tr>\n",
       "      <th>14</th>\n",
       "      <td>32</td>\n",
       "      <td>my chase amazon card was declined fo...</td>\n",
       "      <td>my chase amazon card be decline for ...</td>\n",
       "      <td>chase amazon card catering order bro...</td>\n",
       "      <td>chase amazon card catering order bro...</td>\n",
       "      <td>0</td>\n",
       "    </tr>\n",
       "    <tr>\n",
       "      <th>8</th>\n",
       "      <td>21</td>\n",
       "      <td>on i made a payment to an online ret...</td>\n",
       "      <td>on I make a payment to an online ret...</td>\n",
       "      <td>payment retailer pay chase website s...</td>\n",
       "      <td>payment retailer pay chase website s...</td>\n",
       "      <td>0</td>\n",
       "    </tr>\n",
       "    <tr>\n",
       "      <th>12</th>\n",
       "      <td>27</td>\n",
       "      <td>i opened an account with chase bank ...</td>\n",
       "      <td>I open an account with chase bank on...</td>\n",
       "      <td>account code bonus term account depo...</td>\n",
       "      <td>account code bonus term account depo...</td>\n",
       "      <td>1</td>\n",
       "    </tr>\n",
       "    <tr>\n",
       "      <th>10</th>\n",
       "      <td>24</td>\n",
       "      <td>mishandling of this account by chase...</td>\n",
       "      <td>mishandle of this account by chase a...</td>\n",
       "      <td>account chase auto</td>\n",
       "      <td>account chase auto</td>\n",
       "      <td>1</td>\n",
       "    </tr>\n",
       "    <tr>\n",
       "      <th>0</th>\n",
       "      <td>1</td>\n",
       "      <td>good morning my name is and i apprec...</td>\n",
       "      <td>good morning my name be and I apprec...</td>\n",
       "      <td>morning name stop bank cardmember se...</td>\n",
       "      <td>morning name stop bank cardmember se...</td>\n",
       "      <td>1</td>\n",
       "    </tr>\n",
       "    <tr>\n",
       "      <th>6</th>\n",
       "      <td>17</td>\n",
       "      <td>with out notice jp morgan chase rest...</td>\n",
       "      <td>with out notice jp morgan chase rest...</td>\n",
       "      <td>notice account debit card branch cus...</td>\n",
       "      <td>notice account debit card branch cus...</td>\n",
       "      <td>1</td>\n",
       "    </tr>\n",
       "    <tr>\n",
       "      <th>4</th>\n",
       "      <td>14</td>\n",
       "      <td>my grand son give me check for i dep...</td>\n",
       "      <td>my grand son give I check for I depo...</td>\n",
       "      <td>son check chase account fund chase a...</td>\n",
       "      <td>son check chase account fund chase a...</td>\n",
       "      <td>1</td>\n",
       "    </tr>\n",
       "    <tr>\n",
       "      <th>47</th>\n",
       "      <td>127</td>\n",
       "      <td>i am military member with the chase ...</td>\n",
       "      <td>I be military member with the chase ...</td>\n",
       "      <td>member chase auto finance gap insura...</td>\n",
       "      <td>member chase auto finance gap insura...</td>\n",
       "      <td>2</td>\n",
       "    </tr>\n",
       "    <tr>\n",
       "      <th>41</th>\n",
       "      <td>99</td>\n",
       "      <td>my name is i have missed a payment i...</td>\n",
       "      <td>my name be I have miss a payment in ...</td>\n",
       "      <td>name payment day time loan modificat...</td>\n",
       "      <td>name payment day time loan modificat...</td>\n",
       "      <td>2</td>\n",
       "    </tr>\n",
       "    <tr>\n",
       "      <th>32</th>\n",
       "      <td>81</td>\n",
       "      <td>i bought a new on from in i paid the...</td>\n",
       "      <td>I buy a new on from in I pay the loa...</td>\n",
       "      <td>new loan title chase time resolution...</td>\n",
       "      <td>new loan title chase time resolution...</td>\n",
       "      <td>2</td>\n",
       "    </tr>\n",
       "    <tr>\n",
       "      <th>30</th>\n",
       "      <td>73</td>\n",
       "      <td>i have wired through one of chase br...</td>\n",
       "      <td>I have wire through one of chase bra...</td>\n",
       "      <td>branch reinstatement amount order fo...</td>\n",
       "      <td>branch reinstatement amount order fo...</td>\n",
       "      <td>2</td>\n",
       "    </tr>\n",
       "    <tr>\n",
       "      <th>23</th>\n",
       "      <td>57</td>\n",
       "      <td>i have been trying to do a loan modi...</td>\n",
       "      <td>I have be try to do a loan modificat...</td>\n",
       "      <td>loan modification chase runaround mo...</td>\n",
       "      <td>loan modification chase runaround mo...</td>\n",
       "      <td>2</td>\n",
       "    </tr>\n",
       "    <tr>\n",
       "      <th>1</th>\n",
       "      <td>2</td>\n",
       "      <td>i upgraded my card in and was told b...</td>\n",
       "      <td>I upgrade my card in and be tell by ...</td>\n",
       "      <td>card agent anniversary date agent in...</td>\n",
       "      <td>card agent anniversary date agent in...</td>\n",
       "      <td>3</td>\n",
       "    </tr>\n",
       "    <tr>\n",
       "      <th>3</th>\n",
       "      <td>11</td>\n",
       "      <td>on while trying to book a ticket i c...</td>\n",
       "      <td>on while try to book a ticket I come...</td>\n",
       "      <td>ticket offer ticket reward card info...</td>\n",
       "      <td>ticket offer ticket reward card info...</td>\n",
       "      <td>3</td>\n",
       "    </tr>\n",
       "    <tr>\n",
       "      <th>5</th>\n",
       "      <td>15</td>\n",
       "      <td>can you please remove inquiry</td>\n",
       "      <td>can you please remove inquiry</td>\n",
       "      <td>inquiry</td>\n",
       "      <td>inquiry</td>\n",
       "      <td>3</td>\n",
       "    </tr>\n",
       "    <tr>\n",
       "      <th>9</th>\n",
       "      <td>23</td>\n",
       "      <td>i have a chase credit card which is ...</td>\n",
       "      <td>I have a chase credit card which be ...</td>\n",
       "      <td>chase credit card datum credit repor...</td>\n",
       "      <td>chase credit card datum credit repor...</td>\n",
       "      <td>3</td>\n",
       "    </tr>\n",
       "    <tr>\n",
       "      <th>2</th>\n",
       "      <td>10</td>\n",
       "      <td>chase card was reported on however f...</td>\n",
       "      <td>chase card be report on however frau...</td>\n",
       "      <td>card application identity consent se...</td>\n",
       "      <td>card application identity consent se...</td>\n",
       "      <td>3</td>\n",
       "    </tr>\n",
       "    <tr>\n",
       "      <th>7</th>\n",
       "      <td>20</td>\n",
       "      <td>during the summer months i experienc...</td>\n",
       "      <td>during the summer month I experience...</td>\n",
       "      <td>summer month decline income employme...</td>\n",
       "      <td>summer month decline income employme...</td>\n",
       "      <td>4</td>\n",
       "    </tr>\n",
       "    <tr>\n",
       "      <th>24</th>\n",
       "      <td>58</td>\n",
       "      <td>i made a purchase of on i made payme...</td>\n",
       "      <td>I make a purchase of on I make payme...</td>\n",
       "      <td>purchase payment payment closing dat...</td>\n",
       "      <td>purchase payment payment closing dat...</td>\n",
       "      <td>4</td>\n",
       "    </tr>\n",
       "    <tr>\n",
       "      <th>57</th>\n",
       "      <td>141</td>\n",
       "      <td>action taken by the company between ...</td>\n",
       "      <td>action take by the company between t...</td>\n",
       "      <td>action company date individual group...</td>\n",
       "      <td>action company date individual group...</td>\n",
       "      <td>4</td>\n",
       "    </tr>\n",
       "    <tr>\n",
       "      <th>33</th>\n",
       "      <td>82</td>\n",
       "      <td>i recently called to ask chase bank ...</td>\n",
       "      <td>I recently call to ask chase bank wh...</td>\n",
       "      <td>credit bureau day payment info bill ...</td>\n",
       "      <td>credit bureau day payment info bill ...</td>\n",
       "      <td>4</td>\n",
       "    </tr>\n",
       "    <tr>\n",
       "      <th>73</th>\n",
       "      <td>167</td>\n",
       "      <td>a double payment from my chase debt ...</td>\n",
       "      <td>a double payment from my chase debt ...</td>\n",
       "      <td>payment chase debt cart credit card ...</td>\n",
       "      <td>payment chase debt cart credit card ...</td>\n",
       "      <td>4</td>\n",
       "    </tr>\n",
       "  </tbody>\n",
       "</table>\n",
       "</div>"
      ],
      "text/plain": [
       "             Id                         clean_complaints  \\\n",
       "row_number                                                 \n",
       "13           30  to whom it may concern chase bank ch...   \n",
       "19           45  i made a purchase with on in the amo...   \n",
       "16           40  a sofa love seat table and chairs an...   \n",
       "14           32  my chase amazon card was declined fo...   \n",
       "8            21  on i made a payment to an online ret...   \n",
       "12           27  i opened an account with chase bank ...   \n",
       "10           24  mishandling of this account by chase...   \n",
       "0             1  good morning my name is and i apprec...   \n",
       "6            17  with out notice jp morgan chase rest...   \n",
       "4            14  my grand son give me check for i dep...   \n",
       "47          127  i am military member with the chase ...   \n",
       "41           99  my name is i have missed a payment i...   \n",
       "32           81  i bought a new on from in i paid the...   \n",
       "30           73  i have wired through one of chase br...   \n",
       "23           57  i have been trying to do a loan modi...   \n",
       "1             2  i upgraded my card in and was told b...   \n",
       "3            11  on while trying to book a ticket i c...   \n",
       "5            15            can you please remove inquiry   \n",
       "9            23  i have a chase credit card which is ...   \n",
       "2            10  chase card was reported on however f...   \n",
       "7            20  during the summer months i experienc...   \n",
       "24           58  i made a purchase of on i made payme...   \n",
       "57          141  action taken by the company between ...   \n",
       "33           82  i recently called to ask chase bank ...   \n",
       "73          167  a double payment from my chase debt ...   \n",
       "\n",
       "                             clean_complaints_lemma  \\\n",
       "row_number                                            \n",
       "13          to whom it may concern chase bank ch...   \n",
       "19          I make a purchase with on in the amo...   \n",
       "16          a sofa love seat table and chair and...   \n",
       "14          my chase amazon card be decline for ...   \n",
       "8           on I make a payment to an online ret...   \n",
       "12          I open an account with chase bank on...   \n",
       "10          mishandle of this account by chase a...   \n",
       "0           good morning my name be and I apprec...   \n",
       "6           with out notice jp morgan chase rest...   \n",
       "4           my grand son give I check for I depo...   \n",
       "47          I be military member with the chase ...   \n",
       "41          my name be I have miss a payment in ...   \n",
       "32          I buy a new on from in I pay the loa...   \n",
       "30          I have wire through one of chase bra...   \n",
       "23          I have be try to do a loan modificat...   \n",
       "1           I upgrade my card in and be tell by ...   \n",
       "3           on while try to book a ticket I come...   \n",
       "5                     can you please remove inquiry   \n",
       "9           I have a chase credit card which be ...   \n",
       "2           chase card be report on however frau...   \n",
       "7           during the summer month I experience...   \n",
       "24          I make a purchase of on I make payme...   \n",
       "57          action take by the company between t...   \n",
       "33          I recently call to ask chase bank wh...   \n",
       "73          a double payment from my chase debt ...   \n",
       "\n",
       "                              complaint_POS_removed  \\\n",
       "row_number                                            \n",
       "13          concern chase bank overdraft fee ale...   \n",
       "19          purchase amount transaction dispute ...   \n",
       "16          sofa love seat table chair debit car...   \n",
       "14          chase amazon card catering order bro...   \n",
       "8           payment retailer pay chase website s...   \n",
       "12          account code bonus term account depo...   \n",
       "10                               account chase auto   \n",
       "0           morning name stop bank cardmember se...   \n",
       "6           notice account debit card branch cus...   \n",
       "4           son check chase account fund chase a...   \n",
       "47          member chase auto finance gap insura...   \n",
       "41          name payment day time loan modificat...   \n",
       "32          new loan title chase time resolution...   \n",
       "30          branch reinstatement amount order fo...   \n",
       "23          loan modification chase runaround mo...   \n",
       "1           card agent anniversary date agent in...   \n",
       "3           ticket offer ticket reward card info...   \n",
       "5                                           inquiry   \n",
       "9           chase credit card datum credit repor...   \n",
       "2           card application identity consent se...   \n",
       "7           summer month decline income employme...   \n",
       "24          purchase payment payment closing dat...   \n",
       "57          action company date individual group...   \n",
       "33          credit bureau day payment info bill ...   \n",
       "73          payment chase debt cart credit card ...   \n",
       "\n",
       "                                    Complaint_clean Topic  \n",
       "row_number                                                 \n",
       "13          concern chase bank overdraft fee ale...     0  \n",
       "19          purchase amount transaction dispute ...     0  \n",
       "16          sofa love seat table chair debit car...     0  \n",
       "14          chase amazon card catering order bro...     0  \n",
       "8           payment retailer pay chase website s...     0  \n",
       "12          account code bonus term account depo...     1  \n",
       "10                               account chase auto     1  \n",
       "0           morning name stop bank cardmember se...     1  \n",
       "6           notice account debit card branch cus...     1  \n",
       "4           son check chase account fund chase a...     1  \n",
       "47          member chase auto finance gap insura...     2  \n",
       "41          name payment day time loan modificat...     2  \n",
       "32          new loan title chase time resolution...     2  \n",
       "30          branch reinstatement amount order fo...     2  \n",
       "23          loan modification chase runaround mo...     2  \n",
       "1           card agent anniversary date agent in...     3  \n",
       "3           ticket offer ticket reward card info...     3  \n",
       "5                                           inquiry     3  \n",
       "9           chase credit card datum credit repor...     3  \n",
       "2           card application identity consent se...     3  \n",
       "7           summer month decline income employme...     4  \n",
       "24          purchase payment payment closing dat...     4  \n",
       "57          action company date individual group...     4  \n",
       "33          credit bureau day payment info bill ...     4  \n",
       "73          payment chase debt cart credit card ...     4  "
      ]
     },
     "execution_count": 315,
     "metadata": {},
     "output_type": "execute_result"
    }
   ],
   "source": [
    "#Print the first 5 Complaint for each of the Topics\n",
    "df_clean_print=df_clean.groupby('Topic').head(5)\n",
    "df_clean_print.sort_values('Topic')"
   ]
  },
  {
   "cell_type": "markdown",
   "metadata": {
    "id": "piyLxzj6v07j"
   },
   "source": [
    "#### After evaluating the mapping, if the topics assigned are correct then assign these names to the relevant topic:\n",
    "* Bank Account services\n",
    "* Credit card or prepaid card\n",
    "* Theft/Dispute Reporting\n",
    "* Mortgage/Loan\n",
    "* Others"
   ]
  },
  {
   "cell_type": "code",
   "execution_count": 316,
   "metadata": {},
   "outputs": [
    {
     "name": "stdout",
     "output_type": "stream",
     "text": [
      "            Id                         clean_complaints  \\\n",
      "row_number                                                \n",
      "0            1  good morning my name is and i apprec...   \n",
      "1            2  i upgraded my card in and was told b...   \n",
      "2           10  chase card was reported on however f...   \n",
      "3           11  on while trying to book a ticket i c...   \n",
      "4           14  my grand son give me check for i dep...   \n",
      "\n",
      "                             clean_complaints_lemma  \\\n",
      "row_number                                            \n",
      "0           good morning my name be and I apprec...   \n",
      "1           I upgrade my card in and be tell by ...   \n",
      "2           chase card be report on however frau...   \n",
      "3           on while try to book a ticket I come...   \n",
      "4           my grand son give I check for I depo...   \n",
      "\n",
      "                              complaint_POS_removed  \\\n",
      "row_number                                            \n",
      "0           morning name stop bank cardmember se...   \n",
      "1           card agent anniversary date agent in...   \n",
      "2           card application identity consent se...   \n",
      "3           ticket offer ticket reward card info...   \n",
      "4           son check chase account fund chase a...   \n",
      "\n",
      "                                    Complaint_clean Topic  \n",
      "row_number                                                 \n",
      "0           morning name stop bank cardmember se...     1  \n",
      "1           card agent anniversary date agent in...     3  \n",
      "2           card application identity consent se...     3  \n",
      "3           ticket offer ticket reward card info...     3  \n",
      "4           son check chase account fund chase a...     1  \n"
     ]
    }
   ],
   "source": [
    "print(df_clean.head())"
   ]
  },
  {
   "cell_type": "code",
   "execution_count": 317,
   "metadata": {
    "id": "TWpwDG4RJrGG"
   },
   "outputs": [],
   "source": [
    "#Create the dictionary of Topic names and Topics\n",
    "\n",
    "# cusomt topiclist we created earlier, let us now map to what Exercise provided us.\n",
    "#topic_list = (\"loan\", \"account_issues\", \"credit_card_application\", \"other\" , \"credit_card_dispute\",)\n",
    "\n",
    "# This order is important \n",
    "Topic_names = {\"0\":\"Mortegate/Loan\", \"1\":\"Bank Account services\", \"2\": \"Credit card or prepaid card\" ,\n",
    "               \"3\":\"Other\", \"4\":\"Theft/Dispute Reporting\" }\n",
    "#Replace Topics with Topic Names\n",
    "df_clean['Topic'] = df_clean['Topic'].map(str).map(Topic_names)"
   ]
  },
  {
   "cell_type": "code",
   "execution_count": 318,
   "metadata": {},
   "outputs": [
    {
     "name": "stdout",
     "output_type": "stream",
     "text": [
      "            Id                         clean_complaints  \\\n",
      "row_number                                                \n",
      "0            1  good morning my name is and i apprec...   \n",
      "1            2  i upgraded my card in and was told b...   \n",
      "2           10  chase card was reported on however f...   \n",
      "3           11  on while trying to book a ticket i c...   \n",
      "4           14  my grand son give me check for i dep...   \n",
      "\n",
      "                             clean_complaints_lemma  \\\n",
      "row_number                                            \n",
      "0           good morning my name be and I apprec...   \n",
      "1           I upgrade my card in and be tell by ...   \n",
      "2           chase card be report on however frau...   \n",
      "3           on while try to book a ticket I come...   \n",
      "4           my grand son give I check for I depo...   \n",
      "\n",
      "                              complaint_POS_removed  \\\n",
      "row_number                                            \n",
      "0           morning name stop bank cardmember se...   \n",
      "1           card agent anniversary date agent in...   \n",
      "2           card application identity consent se...   \n",
      "3           ticket offer ticket reward card info...   \n",
      "4           son check chase account fund chase a...   \n",
      "\n",
      "                                    Complaint_clean                  Topic  \n",
      "row_number                                                                  \n",
      "0           morning name stop bank cardmember se...  Bank Account services  \n",
      "1           card agent anniversary date agent in...                  Other  \n",
      "2           card application identity consent se...                  Other  \n",
      "3           ticket offer ticket reward card info...                  Other  \n",
      "4           son check chase account fund chase a...  Bank Account services  \n"
     ]
    }
   ],
   "source": [
    "print(df_clean.head())"
   ]
  },
  {
   "cell_type": "markdown",
   "metadata": {
    "id": "7Mu0QBOcJrGH"
   },
   "source": [
    "## Supervised model to predict any new complaints to the relevant Topics.\n",
    "\n",
    "You have now build the model to create the topics for each complaints.Now in the below section you will use them to classify any new complaints.\n",
    "\n",
    "Since you will be using supervised learning technique we have to convert the topic names to numbers(numpy arrays only understand numbers)"
   ]
  },
  {
   "cell_type": "code",
   "execution_count": 319,
   "metadata": {
    "id": "_U8J3J8wJrGH"
   },
   "outputs": [],
   "source": [
    "#Create the dictionary again of Topic names and Topics\n",
    "\n",
    "Topic_names = { \"Mortegate/Loan\":0, \"Bank Account services\":1 , \"Credit card or prepaid card\":2,\n",
    "              \"Other\":3, \"Theft/Dispute Reporting\":4 }\n",
    "#Replace Topics with Topic Names\n",
    "df_clean['Topic'] = df_clean['Topic'].map(Topic_names)"
   ]
  },
  {
   "cell_type": "code",
   "execution_count": 320,
   "metadata": {
    "id": "Xx-FrbkWJrGH"
   },
   "outputs": [],
   "source": [
    "#Keep the columns\"complaint_what_happened\" & \"Topic\" only in the new dataframe --> training_data\n",
    "training_data=df_clean[[\"clean_complaints\", \"Topic\"]]"
   ]
  },
  {
   "cell_type": "code",
   "execution_count": 321,
   "metadata": {
    "id": "lVg2pa12JrGI"
   },
   "outputs": [
    {
     "name": "stdout",
     "output_type": "stream",
     "text": [
      "                                   clean_complaints  Topic\n",
      "row_number                                                \n",
      "0           good morning my name is and i apprec...      1\n",
      "1           i upgraded my card in and was told b...      3\n",
      "2           chase card was reported on however f...      3\n",
      "3           on while trying to book a ticket i c...      3\n",
      "4           my grand son give me check for i dep...      1\n",
      "(21072, 2)\n"
     ]
    }
   ],
   "source": [
    "print(training_data.head())\n",
    "print(training_data.shape)"
   ]
  },
  {
   "cell_type": "markdown",
   "metadata": {
    "id": "280Vbqk-7a8M"
   },
   "source": [
    "####Apply the supervised models on the training data created. In this process, you have to do the following:\n",
    "* Create the vector counts using Count Vectoriser\n",
    "* Transform the word vecotr to tf-idf\n",
    "* Create the train & test data using the train_test_split on the tf-idf & topics\n"
   ]
  },
  {
   "cell_type": "code",
   "execution_count": 322,
   "metadata": {
    "id": "oUlQpgkzJrGI"
   },
   "outputs": [
    {
     "name": "stdout",
     "output_type": "stream",
     "text": [
      "good morning my name is and i appreciate it if you could help me put a stop to chase bank cardmember services in i wrote to chase asking for debt verification and what they sent me a statement which is not acceptable i am asking the bank to validate the debt instead i been receiving mail every month from them attempting to collect a debt i have a right to know this information as a consumer chase account thanks in advance for your help\n",
      "['good', 'morning', 'my', 'name', 'is', 'and', 'appreciate', 'it', 'if', 'you']\n",
      "(21072, 34267)\n"
     ]
    }
   ],
   "source": [
    "#Write your code to get the Vector count\n",
    "from sklearn.feature_extraction.text import CountVectorizer, TfidfTransformer\n",
    "\n",
    "corpus = df[\"clean_complaints\"].to_list()\n",
    "print(corpus[0])\n",
    "\n",
    "count_vec = CountVectorizer()\n",
    "word_count_vec = count_vec.fit_transform(corpus)\n",
    "word_count_cols = list(count_vec.vocabulary_.keys())\n",
    "print(list(count_vec.vocabulary_.keys())[0:10])\n",
    "print(word_count_vec.shape)\n"
   ]
  },
  {
   "cell_type": "code",
   "execution_count": 323,
   "metadata": {},
   "outputs": [],
   "source": [
    "counts_df = pd.DataFrame(word_count_vec.toarray(), index=training_data.index, columns=word_count_cols)"
   ]
  },
  {
   "cell_type": "code",
   "execution_count": 324,
   "metadata": {},
   "outputs": [
    {
     "name": "stdout",
     "output_type": "stream",
     "text": [
      "            good  morning  my  name  is  and  appreciate  it  if  you  ...  \\\n",
      "row_number                                                             ...   \n",
      "0              0        0   0     0   0    0           0   0   0    0  ...   \n",
      "1              0        0   0     0   0    0           0   0   0    0  ...   \n",
      "2              0        0   0     0   0    0           0   0   0    0  ...   \n",
      "3              0        0   0     0   0    0           0   0   0    0  ...   \n",
      "4              0        0   0     0   0    0           0   0   0    0  ...   \n",
      "\n",
      "            godsend  withave  notrtous  escalting  unbelievebi  \\\n",
      "row_number                                                       \n",
      "0                 0        0         0          0            0   \n",
      "1                 0        0         0          0            0   \n",
      "2                 0        0         0          0            0   \n",
      "3                 0        0         0          0            0   \n",
      "4                 0        0         0          0            0   \n",
      "\n",
      "            constellations  helpsince  legitamite  mogul  freeedom  \n",
      "row_number                                                          \n",
      "0                        0          0           0      0         0  \n",
      "1                        0          0           0      0         0  \n",
      "2                        0          0           0      0         0  \n",
      "3                        0          0           0      0         0  \n",
      "4                        0          0           0      0         0  \n",
      "\n",
      "[5 rows x 34267 columns]\n"
     ]
    }
   ],
   "source": [
    "print(counts_df.head())"
   ]
  },
  {
   "cell_type": "code",
   "execution_count": 325,
   "metadata": {},
   "outputs": [
    {
     "name": "stdout",
     "output_type": "stream",
     "text": [
      "(21072, 34267)\n"
     ]
    }
   ],
   "source": [
    "#Write your code here to transform the word vector to tf-idf\n",
    "tf_transformer = TfidfTransformer(use_idf=True).fit(word_count_vec)\n",
    "word_count_vec_tf = tf_transformer.transform(word_count_vec)\n",
    "print(word_count_vec_tf.shape)"
   ]
  },
  {
   "cell_type": "code",
   "execution_count": 326,
   "metadata": {},
   "outputs": [
    {
     "name": "stdout",
     "output_type": "stream",
     "text": [
      "            good  morning   my  name   is  and  appreciate   it   if  you  \\\n",
      "row_number                                                                  \n",
      "0            0.0      0.0  0.0   0.0  0.0  0.0         0.0  0.0  0.0  0.0   \n",
      "1            0.0      0.0  0.0   0.0  0.0  0.0         0.0  0.0  0.0  0.0   \n",
      "2            0.0      0.0  0.0   0.0  0.0  0.0         0.0  0.0  0.0  0.0   \n",
      "3            0.0      0.0  0.0   0.0  0.0  0.0         0.0  0.0  0.0  0.0   \n",
      "4            0.0      0.0  0.0   0.0  0.0  0.0         0.0  0.0  0.0  0.0   \n",
      "\n",
      "            ...  godsend  withave  notrtous  escalting  unbelievebi  \\\n",
      "row_number  ...                                                       \n",
      "0           ...      0.0      0.0       0.0        0.0          0.0   \n",
      "1           ...      0.0      0.0       0.0        0.0          0.0   \n",
      "2           ...      0.0      0.0       0.0        0.0          0.0   \n",
      "3           ...      0.0      0.0       0.0        0.0          0.0   \n",
      "4           ...      0.0      0.0       0.0        0.0          0.0   \n",
      "\n",
      "            constellations  helpsince  legitamite  mogul  freeedom  \n",
      "row_number                                                          \n",
      "0                      0.0        0.0         0.0    0.0       0.0  \n",
      "1                      0.0        0.0         0.0    0.0       0.0  \n",
      "2                      0.0        0.0         0.0    0.0       0.0  \n",
      "3                      0.0        0.0         0.0    0.0       0.0  \n",
      "4                      0.0        0.0         0.0    0.0       0.0  \n",
      "\n",
      "[5 rows x 34267 columns]\n",
      "(21072, 34267)\n"
     ]
    }
   ],
   "source": [
    "corpus_tf_idf = pd.DataFrame(word_count_vec_tf.toarray(), index=training_data.index, columns=word_count_cols)\n",
    "#corpus_tf_idf[\"Topic\"] = training_data[\"Topic\"]\n",
    "print(corpus_tf_idf.head())\n",
    "print(corpus_tf_idf.shape)\n"
   ]
  },
  {
   "cell_type": "code",
   "execution_count": 327,
   "metadata": {},
   "outputs": [],
   "source": [
    "from sklearn.model_selection import train_test_split\n",
    "\n",
    "#target_attribute = training_data['Topic'].iloc[0:5000]\n",
    "#corpus_tf_idf_t = corpus_tf_idf.iloc[0:5000]\n",
    "\n",
    "target_attribute = training_data['Topic']\n",
    "X_train, X_test, y_train, y_test = train_test_split(corpus_tf_idf, target_attribute, test_size=0.2)"
   ]
  },
  {
   "cell_type": "code",
   "execution_count": 328,
   "metadata": {},
   "outputs": [
    {
     "name": "stdout",
     "output_type": "stream",
     "text": [
      "(16857, 34267) (4215, 34267) (16857,) (4215,)\n"
     ]
    }
   ],
   "source": [
    "print(X_train.shape, X_test.shape, y_train.shape, y_test.shape)"
   ]
  },
  {
   "cell_type": "markdown",
   "metadata": {
    "id": "uMU3vj6w-wqL"
   },
   "source": [
    "You have to try atleast 3 models on the train & test data from these options:\n",
    "* Logistic regression\n",
    "* Decision Tree\n",
    "* Random Forest\n",
    "* Naive Bayes (optional)\n",
    "\n",
    "**Using the required evaluation metrics judge the tried models and select the ones performing the best**"
   ]
  },
  {
   "cell_type": "code",
   "execution_count": 329,
   "metadata": {
    "id": "udLHpPsZJrGI"
   },
   "outputs": [],
   "source": [
    "# Write your code here to build any 3 models and evaluate them using the required metrics\n",
    "\n",
    "from sklearn.model_selection import train_test_split\n",
    "from sklearn import metrics\n",
    "from sklearn.metrics import accuracy_score\n",
    "from sklearn.metrics import precision_score\n",
    "from sklearn.metrics import recall_score\n",
    "from sklearn.metrics import confusion_matrix\n",
    "from sklearn.metrics import f1_score\n",
    "from sklearn.preprocessing import StandardScaler\n",
    "\n",
    "from sklearn.linear_model import LogisticRegression\n",
    "from sklearn.tree import DecisionTreeClassifier\n",
    "from sklearn.ensemble  import RandomForestClassifier\n",
    "\n",
    "\n",
    "def logigistic_regression(X_train,y_train):\n",
    "    model = LogisticRegression()\n",
    "    model.fit(X_train,y_train)\n",
    "    return model\n",
    "\n",
    "def decision_tree(X_train,y_train,max_depth=5,max_features=None):\n",
    "    model = DecisionTreeClassifier(max_depth=max_depth,max_features=max_features)\n",
    "    model.fit(X_train,y_train)\n",
    "    return model\n",
    "\n",
    "def randomforest(X_train,y_train,max_depth=5,max_features=None):\n",
    "    model = DecisionTreeClassifier(max_depth=max_depth,max_features=max_features)\n",
    "    model.fit(X_train,y_train)\n",
    "    return model\n"
   ]
  },
  {
   "cell_type": "code",
   "execution_count": 330,
   "metadata": {},
   "outputs": [],
   "source": [
    "def score_model(y_test,y_pred):\n",
    "    \n",
    "\n",
    "    # Confusion metrics\n",
    "    confusion = metrics.confusion_matrix(y_test, y_pred)\n",
    "    print(confusion)\n",
    "\n",
    "    TP = confusion[1,1] # true positive \n",
    "    TN = confusion[0,0] # true negatives\n",
    "    FP = confusion[0,1] # false positives\n",
    "    FN = confusion[1,0] # false negatives\n",
    "    \n",
    "    Accuracy = accuracy_score(y_test,y_pred)\n",
    "    Precision= precision_score(y_test,y_pred,average='macro', zero_division=0.0)\n",
    "    Recall = recall_score(y_test,y_pred,average='macro', zero_division=0.0)\n",
    "    Sensitivity = round((TP / float(TP+FN)),2)\n",
    "    Specificity = round((TN / float(TN+FP)),2)\n",
    "    False_positive_rate = round( (FP/ float(TN+FP)), 4) * 100\n",
    "    True_positive_rate = round( (TP / float(TP+FP)), 4)* 100\n",
    "    True_negative_rate = round( (TN / float(TN+ FN)), 4) * 100\n",
    "    F1_score = f1_score(y_test, y_pred, average=\"macro\")\n",
    "    classification_err_rate = round( ((FP+FN) / float(TP+FP+TN+FN)), 4)* 100\n",
    "    \n",
    "    results = { 'accuracy' : Accuracy,\n",
    "                'precision' : Precision,\n",
    "                'recall'  :  Recall,\n",
    "                'sensitivity' :Sensitivity,\n",
    "                'sensitivity' :   Specificity,\n",
    "                'false_positive_rate' :True_positive_rate,\n",
    "                'true_positive_rate' : True_negative_rate,\n",
    "                'true_negative_rate' : True_negative_rate ,\n",
    "                'f1_score' : F1_score ,\n",
    "                'Classification_error_rate': classification_err_rate,\n",
    "               }\n",
    "    return results"
   ]
  },
  {
   "cell_type": "code",
   "execution_count": 331,
   "metadata": {
    "id": "N2OznsObJrGP"
   },
   "outputs": [],
   "source": [
    "def create_models(classifier,X_train,y_train,X_test,y_test,scale=False):\n",
    "    #X_train, X_test, y_train, y_test = train_test_split(X, y, test_size =test_size, random_state = 4, stratify = y)\n",
    "    \n",
    "    if scale:\n",
    "        scaler = StandardScaler()\n",
    "        cols_scale = X_train.columns.to_list()\n",
    "        X_train_sdf = scaler.fit_transform(X_train)\n",
    "        X_train = pd.DataFrame(X_train_sdf, columns=cols_scale)\n",
    "        X_test = scaler.transform(X_test)\n",
    "    \n",
    "    \n",
    "    model = classifier(X_train,y_train)\n",
    "    \n",
    "    y_pred_test = model.predict(X_test)\n",
    "    y_test_pred = pd.DataFrame({'ground_truth':y_test.values, 'prediction':y_pred_test})\n",
    "\n",
    "    summary_test = score_model(y_test,y_test_pred['prediction'])    \n",
    "    \n",
    "    prediction_results = pd.DataFrame({'y_test' : y_test,\n",
    "                                       'y_pred' : y_test_pred['prediction']},\n",
    "                                    )\n",
    "    model_crosstab = pd.crosstab(prediction_results['y_pred'],prediction_results['y_test'])\n",
    "    \n",
    "    model_results  = { \n",
    "                       'test'     : summary_test,\n",
    "                       'confusion_matrix' : model_crosstab,\n",
    "                     }\n",
    "    return model,model_results"
   ]
  },
  {
   "cell_type": "code",
   "execution_count": 332,
   "metadata": {},
   "outputs": [
    {
     "name": "stderr",
     "output_type": "stream",
     "text": [
      "/Users/dhananjayjoshi/opt/anaconda3/lib/python3.8/site-packages/sklearn/linear_model/_logistic.py:458: ConvergenceWarning:\n",
      "\n",
      "lbfgs failed to converge (status=1):\n",
      "STOP: TOTAL NO. of ITERATIONS REACHED LIMIT.\n",
      "\n",
      "Increase the number of iterations (max_iter) or scale the data as shown in:\n",
      "    https://scikit-learn.org/stable/modules/preprocessing.html\n",
      "Please also refer to the documentation for alternative solver options:\n",
      "    https://scikit-learn.org/stable/modules/linear_model.html#logistic-regression\n",
      "\n"
     ]
    },
    {
     "name": "stdout",
     "output_type": "stream",
     "text": [
      "[[ 779   28    9   19    5]\n",
      " [  23 1089   12   17    2]\n",
      " [  14    8  706   12    4]\n",
      " [  36   18    5  954    2]\n",
      " [  18   18   21   18  398]]\n"
     ]
    }
   ],
   "source": [
    "# Let us try three models and store results in model_results\n",
    "\n",
    "models_results = {}\n",
    "lr_model,models_results['LogisticRegression'] = create_models(\n",
    "    logigistic_regression,X_train,y_train,X_test,y_test)"
   ]
  },
  {
   "cell_type": "code",
   "execution_count": 333,
   "metadata": {},
   "outputs": [
    {
     "name": "stdout",
     "output_type": "stream",
     "text": [
      "                           LogisticRegression  DecisionTree  RandomForest\n",
      "accuracy                             0.918149      0.741400      0.741400\n",
      "precision                            0.923535      0.788445      0.788445\n",
      "recall                               0.901503      0.729275      0.729275\n",
      "sensitivity                          0.990000      0.950000      0.950000\n",
      "false_positive_rate                 99.460000     95.820000     95.820000\n",
      "true_positive_rate                  98.680000     95.010000     95.010000\n",
      "true_negative_rate                  98.680000     95.010000     95.010000\n",
      "f1_score                             0.910716      0.748840      0.748840\n",
      "Classification_error_rate            0.930000      4.560000      4.560000\n"
     ]
    }
   ],
   "source": [
    "print(model_results)"
   ]
  },
  {
   "cell_type": "code",
   "execution_count": 334,
   "metadata": {},
   "outputs": [
    {
     "name": "stdout",
     "output_type": "stream",
     "text": [
      "[[495  68 206  60  11]\n",
      " [ 58 759 248  54  24]\n",
      " [ 21  11 675  22  15]\n",
      " [130  43  53 779  10]\n",
      " [ 24  37  84  43 285]]\n"
     ]
    }
   ],
   "source": [
    "decisiontree_model,models_results['DecisionTree'] = create_models(\n",
    "    decision_tree,X_train,y_train,X_test,y_test)"
   ]
  },
  {
   "cell_type": "code",
   "execution_count": 335,
   "metadata": {},
   "outputs": [
    {
     "name": "stdout",
     "output_type": "stream",
     "text": [
      "[[495  68 206  60  11]\n",
      " [ 58 759 248  54  24]\n",
      " [ 21  11 675  22  15]\n",
      " [130  43  53 779  10]\n",
      " [ 24  37  84  43 285]]\n"
     ]
    }
   ],
   "source": [
    "randonforest_model,models_results['RandomForest'] = create_models(\n",
    "    randomforest,X_train,y_train,X_test,y_test)"
   ]
  },
  {
   "cell_type": "code",
   "execution_count": 336,
   "metadata": {},
   "outputs": [
    {
     "data": {
      "text/html": [
       "<div>\n",
       "<style scoped>\n",
       "    .dataframe tbody tr th:only-of-type {\n",
       "        vertical-align: middle;\n",
       "    }\n",
       "\n",
       "    .dataframe tbody tr th {\n",
       "        vertical-align: top;\n",
       "    }\n",
       "\n",
       "    .dataframe thead th {\n",
       "        text-align: right;\n",
       "    }\n",
       "</style>\n",
       "<table border=\"1\" class=\"dataframe\">\n",
       "  <thead>\n",
       "    <tr style=\"text-align: right;\">\n",
       "      <th></th>\n",
       "      <th>accuracy</th>\n",
       "      <th>precision</th>\n",
       "      <th>recall</th>\n",
       "      <th>sensitivity</th>\n",
       "      <th>false_positive_rate</th>\n",
       "      <th>true_positive_rate</th>\n",
       "      <th>true_negative_rate</th>\n",
       "      <th>f1_score</th>\n",
       "      <th>Classification_error_rate</th>\n",
       "    </tr>\n",
       "  </thead>\n",
       "  <tbody>\n",
       "    <tr>\n",
       "      <th>LogisticRegression</th>\n",
       "      <td>0.931435</td>\n",
       "      <td>0.934927</td>\n",
       "      <td>0.922080</td>\n",
       "      <td>0.97</td>\n",
       "      <td>97.49</td>\n",
       "      <td>97.13</td>\n",
       "      <td>97.13</td>\n",
       "      <td>0.927538</td>\n",
       "      <td>2.66</td>\n",
       "    </tr>\n",
       "    <tr>\n",
       "      <th>DecisionTree</th>\n",
       "      <td>0.710083</td>\n",
       "      <td>0.735831</td>\n",
       "      <td>0.706122</td>\n",
       "      <td>0.88</td>\n",
       "      <td>91.78</td>\n",
       "      <td>89.51</td>\n",
       "      <td>89.51</td>\n",
       "      <td>0.705207</td>\n",
       "      <td>9.13</td>\n",
       "    </tr>\n",
       "    <tr>\n",
       "      <th>RandomForest</th>\n",
       "      <td>0.710083</td>\n",
       "      <td>0.735831</td>\n",
       "      <td>0.706122</td>\n",
       "      <td>0.88</td>\n",
       "      <td>91.78</td>\n",
       "      <td>89.51</td>\n",
       "      <td>89.51</td>\n",
       "      <td>0.705207</td>\n",
       "      <td>9.13</td>\n",
       "    </tr>\n",
       "  </tbody>\n",
       "</table>\n",
       "</div>"
      ],
      "text/plain": [
       "                    accuracy  precision    recall  sensitivity  \\\n",
       "LogisticRegression  0.931435   0.934927  0.922080         0.97   \n",
       "DecisionTree        0.710083   0.735831  0.706122         0.88   \n",
       "RandomForest        0.710083   0.735831  0.706122         0.88   \n",
       "\n",
       "                    false_positive_rate  true_positive_rate  \\\n",
       "LogisticRegression                97.49               97.13   \n",
       "DecisionTree                      91.78               89.51   \n",
       "RandomForest                      91.78               89.51   \n",
       "\n",
       "                    true_negative_rate  f1_score  Classification_error_rate  \n",
       "LogisticRegression               97.13  0.927538                       2.66  \n",
       "DecisionTree                     89.51  0.705207                       9.13  \n",
       "RandomForest                     89.51  0.705207                       9.13  "
      ]
     },
     "metadata": {},
     "output_type": "display_data"
    }
   ],
   "source": [
    "model_results = pd.DataFrame()\n",
    "\n",
    "for key in models_results:\n",
    "    for result,value in models_results[key]['test'].items():\n",
    "        ind = [ result for result,value in models_results[key]['test'].items()]   \n",
    "        values = [ value for result,value in models_results[key]['test'].items()] \n",
    "\n",
    "    df_tmp = pd.DataFrame(values,index=ind,columns=[key])\n",
    "    model_results = pd.concat([model_results,df_tmp],axis=1)\n",
    "\n",
    "display(model_results.T.sort_values('accuracy',ascending=False))"
   ]
  },
  {
   "cell_type": "code",
   "execution_count": 337,
   "metadata": {},
   "outputs": [
    {
     "name": "stdout",
     "output_type": "stream",
     "text": [
      "                           LogisticRegression  DecisionTree  RandomForest\n",
      "accuracy                             0.931435      0.710083      0.710083\n",
      "precision                            0.934927      0.735831      0.735831\n",
      "recall                               0.922080      0.706122      0.706122\n",
      "sensitivity                          0.970000      0.880000      0.880000\n",
      "false_positive_rate                 97.490000     91.780000     91.780000\n",
      "true_positive_rate                  97.130000     89.510000     89.510000\n",
      "true_negative_rate                  97.130000     89.510000     89.510000\n",
      "f1_score                             0.927538      0.705207      0.705207\n",
      "Classification_error_rate            2.660000      9.130000      9.130000\n"
     ]
    }
   ],
   "source": [
    "print(model_results)"
   ]
  },
  {
   "cell_type": "code",
   "execution_count": 369,
   "metadata": {},
   "outputs": [
    {
     "name": "stdout",
     "output_type": "stream",
     "text": [
      "   good  morning   my  name   is  and  appreciate   it   if  you  ...  \\\n",
      "0   0.0      0.0  0.0   0.0  0.0  0.0         0.0  0.0  0.0  0.0  ...   \n",
      "\n",
      "   godsend  withave  notrtous  escalting  unbelievebi  constellations  \\\n",
      "0      0.0      0.0       0.0        0.0          0.0             0.0   \n",
      "\n",
      "   helpsince  legitamite  mogul  freeedom  \n",
      "0        0.0         0.0    0.0       0.0  \n",
      "\n",
      "[1 rows x 34267 columns] (1, 34267)\n"
     ]
    }
   ],
   "source": [
    "# Conclusion LogisticRegression is best performing model with 0.93 as F1 score\n",
    "# Let us use it to predict topic against some text\n",
    "\n",
    "# Picking up same text as above which should be predicted to topic-4 i,e. credit card dispute\n",
    "\n",
    "inference_corpus = ['summer month decline income employment month payment extension auto loan \\\n",
    "                    company chase past year request payment extension auto loan payment request \\\n",
    "                    month payment extension year situation supervisor avail discussion reason decline \\\n",
    "                    reason denial office director communication representative chase week representative \\\n",
    "                    office representative role help matter representative conference call department \\\n",
    "                    request information request policy change explanation representative letter \\\n",
    "                    explanation letter reason denial policy change cfpb help denial payment extension \\\n",
    "                    request reason denial']\n",
    "\n",
    "# Let us create tf_idf matrix before feeding to Logstic regression model.\n",
    "\n",
    "# transform countvector and TF vector with unseen text\n",
    "inference_tfidf = count_vec.transform(inference_corpus)\n",
    "inference_df = pd.DataFrame(inference_tfidf.toarray(), columns=word_count_cols)\n",
    "\n",
    "inference_transformer = TfidfTransformer(use_idf=True).fit(inference_tfidf)\n",
    "inf_word_count_vec_tf = inference_transformer.transform(inference_tfidf)\n",
    "inf_tf_idf = pd.DataFrame(inf_word_count_vec_tf.toarray(), columns=word_count_cols)\n",
    "print(inf_tf_idf,inf_tf_idf.shape)"
   ]
  },
  {
   "cell_type": "code",
   "execution_count": 371,
   "metadata": {},
   "outputs": [
    {
     "name": "stdout",
     "output_type": "stream",
     "text": [
      "[4]\n"
     ]
    }
   ],
   "source": [
    "topic_number = lr_model.predict(inf_tf_idf)\n",
    "print(topic_number)"
   ]
  },
  {
   "cell_type": "code",
   "execution_count": 372,
   "metadata": {},
   "outputs": [],
   "source": [
    "# Conclusion - Model correctly predicts topic-4 i.e. credit card dispute topic for chosen text."
   ]
  },
  {
   "cell_type": "code",
   "execution_count": null,
   "metadata": {},
   "outputs": [],
   "source": []
  }
 ],
 "metadata": {
  "colab": {
   "collapsed_sections": [
    "T9jD_6SeJrF3",
    "5DfCSbbmJrF4",
    "yYzD85nTJrGA",
    "piyLxzj6v07j",
    "280Vbqk-7a8M"
   ],
   "provenance": []
  },
  "kernelspec": {
   "display_name": "Python 3",
   "language": "python",
   "name": "python3"
  },
  "language_info": {
   "codemirror_mode": {
    "name": "ipython",
    "version": 3
   },
   "file_extension": ".py",
   "mimetype": "text/x-python",
   "name": "python",
   "nbconvert_exporter": "python",
   "pygments_lexer": "ipython3",
   "version": "3.8.3"
  }
 },
 "nbformat": 4,
 "nbformat_minor": 1
}
